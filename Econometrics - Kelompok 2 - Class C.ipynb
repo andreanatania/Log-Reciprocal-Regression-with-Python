{
 "cells": [
  {
   "cell_type": "markdown",
   "metadata": {},
   "source": [
    "## <font color=#00B0BA>Group 2 Class C"
   ]
  },
  {
   "cell_type": "markdown",
   "metadata": {},
   "source": [
    "- Livia Novita Gianto 23102010003\n",
    "- Felix Budhi Santoso 23102010028\n",
    "- Nathania Gunawan 23102010070\n",
    "- Alina Florencia Karuniawati 23102010073\n",
    "- Andrea Nathania 23102010092\n"
   ]
  },
  {
   "cell_type": "markdown",
   "metadata": {},
   "source": [
    "## <font color=#00B0BA>Import Package"
   ]
  },
  {
   "cell_type": "code",
   "execution_count": 1,
   "metadata": {},
   "outputs": [],
   "source": [
    "import pandas as pd\n",
    "import statsmodels.api as sm\n",
    "import numpy as np\n",
    "import seaborn as sns\n",
    "from matplotlib import pyplot as plt\n",
    "from sklearn.linear_model import LinearRegression"
   ]
  },
  {
   "cell_type": "markdown",
   "metadata": {},
   "source": [
    "## <font color=#00B0BA>Overview Overall Data"
   ]
  },
  {
   "cell_type": "code",
   "execution_count": 2,
   "metadata": {
    "scrolled": true
   },
   "outputs": [
    {
     "data": {
      "text/html": [
       "<div>\n",
       "<style scoped>\n",
       "    .dataframe tbody tr th:only-of-type {\n",
       "        vertical-align: middle;\n",
       "    }\n",
       "\n",
       "    .dataframe tbody tr th {\n",
       "        vertical-align: top;\n",
       "    }\n",
       "\n",
       "    .dataframe thead th {\n",
       "        text-align: right;\n",
       "    }\n",
       "</style>\n",
       "<table border=\"1\" class=\"dataframe\">\n",
       "  <thead>\n",
       "    <tr style=\"text-align: right;\">\n",
       "      <th></th>\n",
       "      <th>Date_reported</th>\n",
       "      <th>Country_code</th>\n",
       "      <th>Country</th>\n",
       "      <th>WHO_region</th>\n",
       "      <th>New_cases</th>\n",
       "      <th>Cumulative_cases</th>\n",
       "      <th>New_deaths</th>\n",
       "      <th>Cumulative_deaths</th>\n",
       "    </tr>\n",
       "  </thead>\n",
       "  <tbody>\n",
       "    <tr>\n",
       "      <th>0</th>\n",
       "      <td>2020-01-03</td>\n",
       "      <td>AF</td>\n",
       "      <td>Afghanistan</td>\n",
       "      <td>EMRO</td>\n",
       "      <td>0</td>\n",
       "      <td>0</td>\n",
       "      <td>0</td>\n",
       "      <td>0</td>\n",
       "    </tr>\n",
       "    <tr>\n",
       "      <th>1</th>\n",
       "      <td>2020-01-04</td>\n",
       "      <td>AF</td>\n",
       "      <td>Afghanistan</td>\n",
       "      <td>EMRO</td>\n",
       "      <td>0</td>\n",
       "      <td>0</td>\n",
       "      <td>0</td>\n",
       "      <td>0</td>\n",
       "    </tr>\n",
       "    <tr>\n",
       "      <th>2</th>\n",
       "      <td>2020-01-05</td>\n",
       "      <td>AF</td>\n",
       "      <td>Afghanistan</td>\n",
       "      <td>EMRO</td>\n",
       "      <td>0</td>\n",
       "      <td>0</td>\n",
       "      <td>0</td>\n",
       "      <td>0</td>\n",
       "    </tr>\n",
       "    <tr>\n",
       "      <th>3</th>\n",
       "      <td>2020-01-06</td>\n",
       "      <td>AF</td>\n",
       "      <td>Afghanistan</td>\n",
       "      <td>EMRO</td>\n",
       "      <td>0</td>\n",
       "      <td>0</td>\n",
       "      <td>0</td>\n",
       "      <td>0</td>\n",
       "    </tr>\n",
       "    <tr>\n",
       "      <th>4</th>\n",
       "      <td>2020-01-07</td>\n",
       "      <td>AF</td>\n",
       "      <td>Afghanistan</td>\n",
       "      <td>EMRO</td>\n",
       "      <td>0</td>\n",
       "      <td>0</td>\n",
       "      <td>0</td>\n",
       "      <td>0</td>\n",
       "    </tr>\n",
       "    <tr>\n",
       "      <th>...</th>\n",
       "      <td>...</td>\n",
       "      <td>...</td>\n",
       "      <td>...</td>\n",
       "      <td>...</td>\n",
       "      <td>...</td>\n",
       "      <td>...</td>\n",
       "      <td>...</td>\n",
       "      <td>...</td>\n",
       "    </tr>\n",
       "    <tr>\n",
       "      <th>198838</th>\n",
       "      <td>2022-04-16</td>\n",
       "      <td>ZW</td>\n",
       "      <td>Zimbabwe</td>\n",
       "      <td>AFRO</td>\n",
       "      <td>29</td>\n",
       "      <td>247237</td>\n",
       "      <td>0</td>\n",
       "      <td>5462</td>\n",
       "    </tr>\n",
       "    <tr>\n",
       "      <th>198839</th>\n",
       "      <td>2022-04-17</td>\n",
       "      <td>ZW</td>\n",
       "      <td>Zimbabwe</td>\n",
       "      <td>AFRO</td>\n",
       "      <td>24</td>\n",
       "      <td>247261</td>\n",
       "      <td>0</td>\n",
       "      <td>5462</td>\n",
       "    </tr>\n",
       "    <tr>\n",
       "      <th>198840</th>\n",
       "      <td>2022-04-18</td>\n",
       "      <td>ZW</td>\n",
       "      <td>Zimbabwe</td>\n",
       "      <td>AFRO</td>\n",
       "      <td>17</td>\n",
       "      <td>247278</td>\n",
       "      <td>1</td>\n",
       "      <td>5463</td>\n",
       "    </tr>\n",
       "    <tr>\n",
       "      <th>198841</th>\n",
       "      <td>2022-04-19</td>\n",
       "      <td>ZW</td>\n",
       "      <td>Zimbabwe</td>\n",
       "      <td>AFRO</td>\n",
       "      <td>19</td>\n",
       "      <td>247297</td>\n",
       "      <td>1</td>\n",
       "      <td>5464</td>\n",
       "    </tr>\n",
       "    <tr>\n",
       "      <th>198842</th>\n",
       "      <td>2022-04-20</td>\n",
       "      <td>ZW</td>\n",
       "      <td>Zimbabwe</td>\n",
       "      <td>AFRO</td>\n",
       "      <td>39</td>\n",
       "      <td>247336</td>\n",
       "      <td>2</td>\n",
       "      <td>5466</td>\n",
       "    </tr>\n",
       "  </tbody>\n",
       "</table>\n",
       "<p>198843 rows × 8 columns</p>\n",
       "</div>"
      ],
      "text/plain": [
       "       Date_reported Country_code      Country WHO_region  New_cases  \\\n",
       "0         2020-01-03           AF  Afghanistan       EMRO          0   \n",
       "1         2020-01-04           AF  Afghanistan       EMRO          0   \n",
       "2         2020-01-05           AF  Afghanistan       EMRO          0   \n",
       "3         2020-01-06           AF  Afghanistan       EMRO          0   \n",
       "4         2020-01-07           AF  Afghanistan       EMRO          0   \n",
       "...              ...          ...          ...        ...        ...   \n",
       "198838    2022-04-16           ZW     Zimbabwe       AFRO         29   \n",
       "198839    2022-04-17           ZW     Zimbabwe       AFRO         24   \n",
       "198840    2022-04-18           ZW     Zimbabwe       AFRO         17   \n",
       "198841    2022-04-19           ZW     Zimbabwe       AFRO         19   \n",
       "198842    2022-04-20           ZW     Zimbabwe       AFRO         39   \n",
       "\n",
       "        Cumulative_cases  New_deaths  Cumulative_deaths  \n",
       "0                      0           0                  0  \n",
       "1                      0           0                  0  \n",
       "2                      0           0                  0  \n",
       "3                      0           0                  0  \n",
       "4                      0           0                  0  \n",
       "...                  ...         ...                ...  \n",
       "198838            247237           0               5462  \n",
       "198839            247261           0               5462  \n",
       "198840            247278           1               5463  \n",
       "198841            247297           1               5464  \n",
       "198842            247336           2               5466  \n",
       "\n",
       "[198843 rows x 8 columns]"
      ]
     },
     "execution_count": 2,
     "metadata": {},
     "output_type": "execute_result"
    }
   ],
   "source": [
    "df = pd.read_csv('WHO-COVID-19-global-data.csv')\n",
    "df"
   ]
  },
  {
   "cell_type": "markdown",
   "metadata": {},
   "source": [
    "Data ini diambil dari https://data.humdata.org/dataset/coronavirus-covid-19-cases-and-deaths. Data ini merupakan data yang terdiri dari jumlah kasus harian, total kasus kumulatif, jumlah kematian harian, total kematian kumulatif dari persebaran COVID-19 dari berbagai negara. Data ini memuat data dari tanggal 1 Maret 2020 sampai dengan 20 April 2022  \n",
    "\n",
    "Keterangan:\n",
    "- Date_reported: tahun-bulan-tanggal\n",
    "- Country_code: inisial negara\n",
    "- Country: nama negara\n",
    "- WHO_region: region WHO\n",
    "- New_cases: jumlah kasus harian (dalam satuan banyak orang)\n",
    "- Cumulative_cases: jumlah kasus kumulatif (dalam satuan banyak orang)\n",
    "- New_deaths: jumlah kematian harian (dalam satuan banyak orang)\n",
    "- Cumulative_deaths: jumlah kematian kumulatif (dalam satuan banyak orang)"
   ]
  },
  {
   "cell_type": "markdown",
   "metadata": {},
   "source": [
    "## <font color=#00B0BA>Data Cleaning"
   ]
  },
  {
   "cell_type": "code",
   "execution_count": 3,
   "metadata": {},
   "outputs": [
    {
     "name": "stdout",
     "output_type": "stream",
     "text": [
      "<class 'pandas.core.frame.DataFrame'>\n",
      "RangeIndex: 198843 entries, 0 to 198842\n",
      "Data columns (total 8 columns):\n",
      " #   Column             Non-Null Count   Dtype \n",
      "---  ------             --------------   ----- \n",
      " 0   Date_reported      198843 non-null  object\n",
      " 1   Country_code       198004 non-null  object\n",
      " 2   Country            198843 non-null  object\n",
      " 3   WHO_region         198843 non-null  object\n",
      " 4   New_cases          198843 non-null  int64 \n",
      " 5   Cumulative_cases   198843 non-null  int64 \n",
      " 6   New_deaths         198843 non-null  int64 \n",
      " 7   Cumulative_deaths  198843 non-null  int64 \n",
      "dtypes: int64(4), object(4)\n",
      "memory usage: 12.1+ MB\n"
     ]
    }
   ],
   "source": [
    "df.info()"
   ]
  },
  {
   "cell_type": "markdown",
   "metadata": {},
   "source": [
    "Dari informasi di atas dapat dilihat bahwa kolom Date_reported memiliki tipe data yang tidak sesuai, sehingga perlu diubah tipe datanya menjadi datetime"
   ]
  },
  {
   "cell_type": "markdown",
   "metadata": {},
   "source": [
    "### <font color=#B30019>Change the Data Type"
   ]
  },
  {
   "cell_type": "code",
   "execution_count": 4,
   "metadata": {},
   "outputs": [],
   "source": [
    "df['Date_reported']=pd.to_datetime(df['Date_reported'])"
   ]
  },
  {
   "cell_type": "markdown",
   "metadata": {},
   "source": [
    "### <font color=#B30019>Correlation Between Variables"
   ]
  },
  {
   "cell_type": "code",
   "execution_count": 5,
   "metadata": {},
   "outputs": [
    {
     "data": {
      "image/png": "[encoded data removed]",
      "text/plain": [
       "<Figure size 576x360 with 2 Axes>"
      ]
     },
     "metadata": {
      "needs_background": "light"
     },
     "output_type": "display_data"
    }
   ],
   "source": [
    "fig, ax = plt.subplots(figsize=(8,5))\n",
    "sns.heatmap(df.corr(), annot=True, fmt='.2%')\n",
    "plt.show()"
   ]
  },
  {
   "cell_type": "markdown",
   "metadata": {},
   "source": [
    "Dari Correlation Heat Map di atas, dapat terlihat bahwa terdapat hubungan yang positif antar variabel. Hal ini mengindikasikan bahwa hubungan antara dependent variabel dan independent variabel berbanding lurus. Hubungan antara independent variabel dan dependent variabel yang paling kuat adalah Cumulative_cases (X) dan Cumulative_deaths (Y) dimana angka korelasinya sebesar 91.37% (di atas 75%)."
   ]
  },
  {
   "cell_type": "markdown",
   "metadata": {},
   "source": [
    "### <font color=#B30019>Remove Unnecessary Column"
   ]
  },
  {
   "cell_type": "code",
   "execution_count": 6,
   "metadata": {},
   "outputs": [
    {
     "data": {
      "text/html": [
       "<div>\n",
       "<style scoped>\n",
       "    .dataframe tbody tr th:only-of-type {\n",
       "        vertical-align: middle;\n",
       "    }\n",
       "\n",
       "    .dataframe tbody tr th {\n",
       "        vertical-align: top;\n",
       "    }\n",
       "\n",
       "    .dataframe thead th {\n",
       "        text-align: right;\n",
       "    }\n",
       "</style>\n",
       "<table border=\"1\" class=\"dataframe\">\n",
       "  <thead>\n",
       "    <tr style=\"text-align: right;\">\n",
       "      <th></th>\n",
       "      <th>Date_reported</th>\n",
       "      <th>Country</th>\n",
       "      <th>Cumulative_cases</th>\n",
       "      <th>Cumulative_deaths</th>\n",
       "    </tr>\n",
       "  </thead>\n",
       "  <tbody>\n",
       "    <tr>\n",
       "      <th>0</th>\n",
       "      <td>2020-01-03</td>\n",
       "      <td>Afghanistan</td>\n",
       "      <td>0</td>\n",
       "      <td>0</td>\n",
       "    </tr>\n",
       "    <tr>\n",
       "      <th>1</th>\n",
       "      <td>2020-01-04</td>\n",
       "      <td>Afghanistan</td>\n",
       "      <td>0</td>\n",
       "      <td>0</td>\n",
       "    </tr>\n",
       "    <tr>\n",
       "      <th>2</th>\n",
       "      <td>2020-01-05</td>\n",
       "      <td>Afghanistan</td>\n",
       "      <td>0</td>\n",
       "      <td>0</td>\n",
       "    </tr>\n",
       "    <tr>\n",
       "      <th>3</th>\n",
       "      <td>2020-01-06</td>\n",
       "      <td>Afghanistan</td>\n",
       "      <td>0</td>\n",
       "      <td>0</td>\n",
       "    </tr>\n",
       "    <tr>\n",
       "      <th>4</th>\n",
       "      <td>2020-01-07</td>\n",
       "      <td>Afghanistan</td>\n",
       "      <td>0</td>\n",
       "      <td>0</td>\n",
       "    </tr>\n",
       "    <tr>\n",
       "      <th>...</th>\n",
       "      <td>...</td>\n",
       "      <td>...</td>\n",
       "      <td>...</td>\n",
       "      <td>...</td>\n",
       "    </tr>\n",
       "    <tr>\n",
       "      <th>198838</th>\n",
       "      <td>2022-04-16</td>\n",
       "      <td>Zimbabwe</td>\n",
       "      <td>247237</td>\n",
       "      <td>5462</td>\n",
       "    </tr>\n",
       "    <tr>\n",
       "      <th>198839</th>\n",
       "      <td>2022-04-17</td>\n",
       "      <td>Zimbabwe</td>\n",
       "      <td>247261</td>\n",
       "      <td>5462</td>\n",
       "    </tr>\n",
       "    <tr>\n",
       "      <th>198840</th>\n",
       "      <td>2022-04-18</td>\n",
       "      <td>Zimbabwe</td>\n",
       "      <td>247278</td>\n",
       "      <td>5463</td>\n",
       "    </tr>\n",
       "    <tr>\n",
       "      <th>198841</th>\n",
       "      <td>2022-04-19</td>\n",
       "      <td>Zimbabwe</td>\n",
       "      <td>247297</td>\n",
       "      <td>5464</td>\n",
       "    </tr>\n",
       "    <tr>\n",
       "      <th>198842</th>\n",
       "      <td>2022-04-20</td>\n",
       "      <td>Zimbabwe</td>\n",
       "      <td>247336</td>\n",
       "      <td>5466</td>\n",
       "    </tr>\n",
       "  </tbody>\n",
       "</table>\n",
       "<p>198843 rows × 4 columns</p>\n",
       "</div>"
      ],
      "text/plain": [
       "       Date_reported      Country  Cumulative_cases  Cumulative_deaths\n",
       "0         2020-01-03  Afghanistan                 0                  0\n",
       "1         2020-01-04  Afghanistan                 0                  0\n",
       "2         2020-01-05  Afghanistan                 0                  0\n",
       "3         2020-01-06  Afghanistan                 0                  0\n",
       "4         2020-01-07  Afghanistan                 0                  0\n",
       "...              ...          ...               ...                ...\n",
       "198838    2022-04-16     Zimbabwe            247237               5462\n",
       "198839    2022-04-17     Zimbabwe            247261               5462\n",
       "198840    2022-04-18     Zimbabwe            247278               5463\n",
       "198841    2022-04-19     Zimbabwe            247297               5464\n",
       "198842    2022-04-20     Zimbabwe            247336               5466\n",
       "\n",
       "[198843 rows x 4 columns]"
      ]
     },
     "execution_count": 6,
     "metadata": {},
     "output_type": "execute_result"
    }
   ],
   "source": [
    "df1= df[['Date_reported','Country','Cumulative_cases', 'Cumulative_deaths']]\n",
    "df1"
   ]
  },
  {
   "cell_type": "markdown",
   "metadata": {},
   "source": [
    "## <font color=#00B0BA>Filtering Data"
   ]
  },
  {
   "cell_type": "code",
   "execution_count": 7,
   "metadata": {},
   "outputs": [
    {
     "data": {
      "text/html": [
       "<div>\n",
       "<style scoped>\n",
       "    .dataframe tbody tr th:only-of-type {\n",
       "        vertical-align: middle;\n",
       "    }\n",
       "\n",
       "    .dataframe tbody tr th {\n",
       "        vertical-align: top;\n",
       "    }\n",
       "\n",
       "    .dataframe thead th {\n",
       "        text-align: right;\n",
       "    }\n",
       "</style>\n",
       "<table border=\"1\" class=\"dataframe\">\n",
       "  <thead>\n",
       "    <tr style=\"text-align: right;\">\n",
       "      <th></th>\n",
       "      <th>Date_reported</th>\n",
       "      <th>Cumulative_cases</th>\n",
       "      <th>Cumulative_deaths</th>\n",
       "    </tr>\n",
       "    <tr>\n",
       "      <th>Country</th>\n",
       "      <th></th>\n",
       "      <th></th>\n",
       "      <th></th>\n",
       "    </tr>\n",
       "  </thead>\n",
       "  <tbody>\n",
       "    <tr>\n",
       "      <th>United States of America</th>\n",
       "      <td>2022-04-20</td>\n",
       "      <td>79944656</td>\n",
       "      <td>981834</td>\n",
       "    </tr>\n",
       "    <tr>\n",
       "      <th>India</th>\n",
       "      <td>2022-04-20</td>\n",
       "      <td>43047594</td>\n",
       "      <td>522006</td>\n",
       "    </tr>\n",
       "    <tr>\n",
       "      <th>Brazil</th>\n",
       "      <td>2022-04-20</td>\n",
       "      <td>30261088</td>\n",
       "      <td>662026</td>\n",
       "    </tr>\n",
       "    <tr>\n",
       "      <th>France</th>\n",
       "      <td>2022-04-20</td>\n",
       "      <td>27027167</td>\n",
       "      <td>141007</td>\n",
       "    </tr>\n",
       "    <tr>\n",
       "      <th>Germany</th>\n",
       "      <td>2022-04-20</td>\n",
       "      <td>23658211</td>\n",
       "      <td>133308</td>\n",
       "    </tr>\n",
       "  </tbody>\n",
       "</table>\n",
       "</div>"
      ],
      "text/plain": [
       "                         Date_reported  Cumulative_cases  Cumulative_deaths\n",
       "Country                                                                    \n",
       "United States of America    2022-04-20          79944656             981834\n",
       "India                       2022-04-20          43047594             522006\n",
       "Brazil                      2022-04-20          30261088             662026\n",
       "France                      2022-04-20          27027167             141007\n",
       "Germany                     2022-04-20          23658211             133308"
      ]
     },
     "execution_count": 7,
     "metadata": {},
     "output_type": "execute_result"
    }
   ],
   "source": [
    "df2 = df1[df1['Date_reported']=='2022-04-20']\n",
    "df2=df2.sort_values(['Cumulative_cases'], ascending=[False]).head(5)\n",
    "df2 = df2.set_index('Country')\n",
    "df2"
   ]
  },
  {
   "cell_type": "code",
   "execution_count": 8,
   "metadata": {},
   "outputs": [
    {
     "data": {
      "image/png": "[encoded data removed]",
      "text/plain": [
       "<Figure size 432x288 with 1 Axes>"
      ]
     },
     "metadata": {
      "needs_background": "light"
     },
     "output_type": "display_data"
    }
   ],
   "source": [
    "ax = df2[['Cumulative_cases']].plot(kind='bar')\n",
    "ax.legend([\"Cumulative Cases\"])\n",
    "plt.show()"
   ]
  },
  {
   "cell_type": "markdown",
   "metadata": {},
   "source": [
    "Dari diagram diatas, dapat dilihat data 5 negara dengan total kasus kumulatif terbanyak yaitu USA, India, Brazil, France dan Germany. Dalam hal ini kami tertarik untuk melakukan analisis terhadap negara Germany karena berdasarkan berita dari https://www.freepressjournal.in/world/covid-19-germany-france-south-korea-report-highest-cases-globally-check-full-list-here-3, Jerman merupakan negara yang sekarang ini sedang mengalami ledakan kasus COVID-19 yang sangat tinggi secara global."
   ]
  },
  {
   "cell_type": "markdown",
   "metadata": {},
   "source": [
    "### <font color=#B30019>Remove Other Countries Except Germany"
   ]
  },
  {
   "cell_type": "code",
   "execution_count": 9,
   "metadata": {
    "scrolled": false
   },
   "outputs": [],
   "source": [
    "df3 = df1[df1['Country']=='Germany']"
   ]
  },
  {
   "cell_type": "code",
   "execution_count": 10,
   "metadata": {},
   "outputs": [
    {
     "data": {
      "text/html": [
       "<div>\n",
       "<style scoped>\n",
       "    .dataframe tbody tr th:only-of-type {\n",
       "        vertical-align: middle;\n",
       "    }\n",
       "\n",
       "    .dataframe tbody tr th {\n",
       "        vertical-align: top;\n",
       "    }\n",
       "\n",
       "    .dataframe thead th {\n",
       "        text-align: right;\n",
       "    }\n",
       "</style>\n",
       "<table border=\"1\" class=\"dataframe\">\n",
       "  <thead>\n",
       "    <tr style=\"text-align: right;\">\n",
       "      <th></th>\n",
       "      <th>Date_reported</th>\n",
       "      <th>Country</th>\n",
       "      <th>Cumulative_cases</th>\n",
       "      <th>Cumulative_deaths</th>\n",
       "    </tr>\n",
       "  </thead>\n",
       "  <tbody>\n",
       "    <tr>\n",
       "      <th>65442</th>\n",
       "      <td>2020-01-03</td>\n",
       "      <td>Germany</td>\n",
       "      <td>0</td>\n",
       "      <td>0</td>\n",
       "    </tr>\n",
       "    <tr>\n",
       "      <th>65443</th>\n",
       "      <td>2020-01-04</td>\n",
       "      <td>Germany</td>\n",
       "      <td>1</td>\n",
       "      <td>0</td>\n",
       "    </tr>\n",
       "    <tr>\n",
       "      <th>65444</th>\n",
       "      <td>2020-01-05</td>\n",
       "      <td>Germany</td>\n",
       "      <td>1</td>\n",
       "      <td>0</td>\n",
       "    </tr>\n",
       "    <tr>\n",
       "      <th>65445</th>\n",
       "      <td>2020-01-06</td>\n",
       "      <td>Germany</td>\n",
       "      <td>1</td>\n",
       "      <td>0</td>\n",
       "    </tr>\n",
       "    <tr>\n",
       "      <th>65446</th>\n",
       "      <td>2020-01-07</td>\n",
       "      <td>Germany</td>\n",
       "      <td>1</td>\n",
       "      <td>0</td>\n",
       "    </tr>\n",
       "    <tr>\n",
       "      <th>...</th>\n",
       "      <td>...</td>\n",
       "      <td>...</td>\n",
       "      <td>...</td>\n",
       "      <td>...</td>\n",
       "    </tr>\n",
       "    <tr>\n",
       "      <th>66276</th>\n",
       "      <td>2022-04-16</td>\n",
       "      <td>Germany</td>\n",
       "      <td>23443414</td>\n",
       "      <td>133279</td>\n",
       "    </tr>\n",
       "    <tr>\n",
       "      <th>66277</th>\n",
       "      <td>2022-04-17</td>\n",
       "      <td>Germany</td>\n",
       "      <td>23490420</td>\n",
       "      <td>133284</td>\n",
       "    </tr>\n",
       "    <tr>\n",
       "      <th>66278</th>\n",
       "      <td>2022-04-18</td>\n",
       "      <td>Germany</td>\n",
       "      <td>23520187</td>\n",
       "      <td>133290</td>\n",
       "    </tr>\n",
       "    <tr>\n",
       "      <th>66279</th>\n",
       "      <td>2022-04-19</td>\n",
       "      <td>Germany</td>\n",
       "      <td>23550701</td>\n",
       "      <td>133296</td>\n",
       "    </tr>\n",
       "    <tr>\n",
       "      <th>66280</th>\n",
       "      <td>2022-04-20</td>\n",
       "      <td>Germany</td>\n",
       "      <td>23658211</td>\n",
       "      <td>133308</td>\n",
       "    </tr>\n",
       "  </tbody>\n",
       "</table>\n",
       "<p>839 rows × 4 columns</p>\n",
       "</div>"
      ],
      "text/plain": [
       "      Date_reported  Country  Cumulative_cases  Cumulative_deaths\n",
       "65442    2020-01-03  Germany                 0                  0\n",
       "65443    2020-01-04  Germany                 1                  0\n",
       "65444    2020-01-05  Germany                 1                  0\n",
       "65445    2020-01-06  Germany                 1                  0\n",
       "65446    2020-01-07  Germany                 1                  0\n",
       "...             ...      ...               ...                ...\n",
       "66276    2022-04-16  Germany          23443414             133279\n",
       "66277    2022-04-17  Germany          23490420             133284\n",
       "66278    2022-04-18  Germany          23520187             133290\n",
       "66279    2022-04-19  Germany          23550701             133296\n",
       "66280    2022-04-20  Germany          23658211             133308\n",
       "\n",
       "[839 rows x 4 columns]"
      ]
     },
     "execution_count": 10,
     "metadata": {},
     "output_type": "execute_result"
    }
   ],
   "source": [
    "df3"
   ]
  },
  {
   "cell_type": "markdown",
   "metadata": {},
   "source": [
    "### <font color=#B30019>Remove 2020's Data"
   ]
  },
  {
   "cell_type": "code",
   "execution_count": 11,
   "metadata": {},
   "outputs": [
    {
     "data": {
      "image/png": "[encoded data removed]",
      "text/plain": [
       "<Figure size 720x576 with 1 Axes>"
      ]
     },
     "metadata": {
      "needs_background": "light"
     },
     "output_type": "display_data"
    }
   ],
   "source": [
    "plt.figure(figsize=(10,8))\n",
    "plt.xlabel(\"Date\")\n",
    "plt.ylabel(\"Cumulative Cases\")\n",
    " \n",
    "plt.bar(df3['Date_reported'], df3[\"Cumulative_cases\"], width=5)\n",
    "plt.show()"
   ]
  },
  {
   "cell_type": "markdown",
   "metadata": {},
   "source": [
    "Dalam analisis ini, kami memutuskan untuk menggunakan data dari 1 Januari 2021 hingga 4 April 2022 karena berdasarkan grafik di atas peningkatan total kasus kumulatif yang signifikan di mulai pada Januari 2021 hingga saat ini (April 2022)"
   ]
  },
  {
   "cell_type": "code",
   "execution_count": 12,
   "metadata": {},
   "outputs": [
    {
     "data": {
      "text/html": [
       "<div>\n",
       "<style scoped>\n",
       "    .dataframe tbody tr th:only-of-type {\n",
       "        vertical-align: middle;\n",
       "    }\n",
       "\n",
       "    .dataframe tbody tr th {\n",
       "        vertical-align: top;\n",
       "    }\n",
       "\n",
       "    .dataframe thead th {\n",
       "        text-align: right;\n",
       "    }\n",
       "</style>\n",
       "<table border=\"1\" class=\"dataframe\">\n",
       "  <thead>\n",
       "    <tr style=\"text-align: right;\">\n",
       "      <th></th>\n",
       "      <th>Date_reported</th>\n",
       "      <th>Country</th>\n",
       "      <th>Cumulative_cases</th>\n",
       "      <th>Cumulative_deaths</th>\n",
       "    </tr>\n",
       "  </thead>\n",
       "  <tbody>\n",
       "    <tr>\n",
       "      <th>65806</th>\n",
       "      <td>2021-01-01</td>\n",
       "      <td>Germany</td>\n",
       "      <td>1754442</td>\n",
       "      <td>51068</td>\n",
       "    </tr>\n",
       "    <tr>\n",
       "      <th>65807</th>\n",
       "      <td>2021-01-02</td>\n",
       "      <td>Germany</td>\n",
       "      <td>1764716</td>\n",
       "      <td>51483</td>\n",
       "    </tr>\n",
       "    <tr>\n",
       "      <th>65808</th>\n",
       "      <td>2021-01-03</td>\n",
       "      <td>Germany</td>\n",
       "      <td>1774734</td>\n",
       "      <td>52074</td>\n",
       "    </tr>\n",
       "    <tr>\n",
       "      <th>65809</th>\n",
       "      <td>2021-01-04</td>\n",
       "      <td>Germany</td>\n",
       "      <td>1783570</td>\n",
       "      <td>52570</td>\n",
       "    </tr>\n",
       "    <tr>\n",
       "      <th>65810</th>\n",
       "      <td>2021-01-05</td>\n",
       "      <td>Germany</td>\n",
       "      <td>1797879</td>\n",
       "      <td>53347</td>\n",
       "    </tr>\n",
       "    <tr>\n",
       "      <th>...</th>\n",
       "      <td>...</td>\n",
       "      <td>...</td>\n",
       "      <td>...</td>\n",
       "      <td>...</td>\n",
       "    </tr>\n",
       "    <tr>\n",
       "      <th>66276</th>\n",
       "      <td>2022-04-16</td>\n",
       "      <td>Germany</td>\n",
       "      <td>23443414</td>\n",
       "      <td>133279</td>\n",
       "    </tr>\n",
       "    <tr>\n",
       "      <th>66277</th>\n",
       "      <td>2022-04-17</td>\n",
       "      <td>Germany</td>\n",
       "      <td>23490420</td>\n",
       "      <td>133284</td>\n",
       "    </tr>\n",
       "    <tr>\n",
       "      <th>66278</th>\n",
       "      <td>2022-04-18</td>\n",
       "      <td>Germany</td>\n",
       "      <td>23520187</td>\n",
       "      <td>133290</td>\n",
       "    </tr>\n",
       "    <tr>\n",
       "      <th>66279</th>\n",
       "      <td>2022-04-19</td>\n",
       "      <td>Germany</td>\n",
       "      <td>23550701</td>\n",
       "      <td>133296</td>\n",
       "    </tr>\n",
       "    <tr>\n",
       "      <th>66280</th>\n",
       "      <td>2022-04-20</td>\n",
       "      <td>Germany</td>\n",
       "      <td>23658211</td>\n",
       "      <td>133308</td>\n",
       "    </tr>\n",
       "  </tbody>\n",
       "</table>\n",
       "<p>475 rows × 4 columns</p>\n",
       "</div>"
      ],
      "text/plain": [
       "      Date_reported  Country  Cumulative_cases  Cumulative_deaths\n",
       "65806    2021-01-01  Germany           1754442              51068\n",
       "65807    2021-01-02  Germany           1764716              51483\n",
       "65808    2021-01-03  Germany           1774734              52074\n",
       "65809    2021-01-04  Germany           1783570              52570\n",
       "65810    2021-01-05  Germany           1797879              53347\n",
       "...             ...      ...               ...                ...\n",
       "66276    2022-04-16  Germany          23443414             133279\n",
       "66277    2022-04-17  Germany          23490420             133284\n",
       "66278    2022-04-18  Germany          23520187             133290\n",
       "66279    2022-04-19  Germany          23550701             133296\n",
       "66280    2022-04-20  Germany          23658211             133308\n",
       "\n",
       "[475 rows x 4 columns]"
      ]
     },
     "execution_count": 12,
     "metadata": {},
     "output_type": "execute_result"
    }
   ],
   "source": [
    "df3 = df3[df3['Date_reported']>'2020-12-31']\n",
    "df3"
   ]
  },
  {
   "cell_type": "markdown",
   "metadata": {},
   "source": [
    "## <font color=#00B0BA>Overview Data For Simple Linear Regression"
   ]
  },
  {
   "cell_type": "code",
   "execution_count": 13,
   "metadata": {},
   "outputs": [
    {
     "data": {
      "text/html": [
       "<div>\n",
       "<style scoped>\n",
       "    .dataframe tbody tr th:only-of-type {\n",
       "        vertical-align: middle;\n",
       "    }\n",
       "\n",
       "    .dataframe tbody tr th {\n",
       "        vertical-align: top;\n",
       "    }\n",
       "\n",
       "    .dataframe thead th {\n",
       "        text-align: right;\n",
       "    }\n",
       "</style>\n",
       "<table border=\"1\" class=\"dataframe\">\n",
       "  <thead>\n",
       "    <tr style=\"text-align: right;\">\n",
       "      <th></th>\n",
       "      <th>Date_reported</th>\n",
       "      <th>Country</th>\n",
       "      <th>Cumulative_cases</th>\n",
       "      <th>Cumulative_deaths</th>\n",
       "    </tr>\n",
       "  </thead>\n",
       "  <tbody>\n",
       "    <tr>\n",
       "      <th>65806</th>\n",
       "      <td>2021-01-01</td>\n",
       "      <td>Germany</td>\n",
       "      <td>1754442</td>\n",
       "      <td>51068</td>\n",
       "    </tr>\n",
       "    <tr>\n",
       "      <th>65807</th>\n",
       "      <td>2021-01-02</td>\n",
       "      <td>Germany</td>\n",
       "      <td>1764716</td>\n",
       "      <td>51483</td>\n",
       "    </tr>\n",
       "    <tr>\n",
       "      <th>65808</th>\n",
       "      <td>2021-01-03</td>\n",
       "      <td>Germany</td>\n",
       "      <td>1774734</td>\n",
       "      <td>52074</td>\n",
       "    </tr>\n",
       "    <tr>\n",
       "      <th>65809</th>\n",
       "      <td>2021-01-04</td>\n",
       "      <td>Germany</td>\n",
       "      <td>1783570</td>\n",
       "      <td>52570</td>\n",
       "    </tr>\n",
       "    <tr>\n",
       "      <th>65810</th>\n",
       "      <td>2021-01-05</td>\n",
       "      <td>Germany</td>\n",
       "      <td>1797879</td>\n",
       "      <td>53347</td>\n",
       "    </tr>\n",
       "    <tr>\n",
       "      <th>...</th>\n",
       "      <td>...</td>\n",
       "      <td>...</td>\n",
       "      <td>...</td>\n",
       "      <td>...</td>\n",
       "    </tr>\n",
       "    <tr>\n",
       "      <th>66276</th>\n",
       "      <td>2022-04-16</td>\n",
       "      <td>Germany</td>\n",
       "      <td>23443414</td>\n",
       "      <td>133279</td>\n",
       "    </tr>\n",
       "    <tr>\n",
       "      <th>66277</th>\n",
       "      <td>2022-04-17</td>\n",
       "      <td>Germany</td>\n",
       "      <td>23490420</td>\n",
       "      <td>133284</td>\n",
       "    </tr>\n",
       "    <tr>\n",
       "      <th>66278</th>\n",
       "      <td>2022-04-18</td>\n",
       "      <td>Germany</td>\n",
       "      <td>23520187</td>\n",
       "      <td>133290</td>\n",
       "    </tr>\n",
       "    <tr>\n",
       "      <th>66279</th>\n",
       "      <td>2022-04-19</td>\n",
       "      <td>Germany</td>\n",
       "      <td>23550701</td>\n",
       "      <td>133296</td>\n",
       "    </tr>\n",
       "    <tr>\n",
       "      <th>66280</th>\n",
       "      <td>2022-04-20</td>\n",
       "      <td>Germany</td>\n",
       "      <td>23658211</td>\n",
       "      <td>133308</td>\n",
       "    </tr>\n",
       "  </tbody>\n",
       "</table>\n",
       "<p>475 rows × 4 columns</p>\n",
       "</div>"
      ],
      "text/plain": [
       "      Date_reported  Country  Cumulative_cases  Cumulative_deaths\n",
       "65806    2021-01-01  Germany           1754442              51068\n",
       "65807    2021-01-02  Germany           1764716              51483\n",
       "65808    2021-01-03  Germany           1774734              52074\n",
       "65809    2021-01-04  Germany           1783570              52570\n",
       "65810    2021-01-05  Germany           1797879              53347\n",
       "...             ...      ...               ...                ...\n",
       "66276    2022-04-16  Germany          23443414             133279\n",
       "66277    2022-04-17  Germany          23490420             133284\n",
       "66278    2022-04-18  Germany          23520187             133290\n",
       "66279    2022-04-19  Germany          23550701             133296\n",
       "66280    2022-04-20  Germany          23658211             133308\n",
       "\n",
       "[475 rows x 4 columns]"
      ]
     },
     "execution_count": 13,
     "metadata": {},
     "output_type": "execute_result"
    }
   ],
   "source": [
    "df3"
   ]
  },
  {
   "cell_type": "markdown",
   "metadata": {},
   "source": [
    "Data yang digunakan untuk regresi linear adalah data perseberan Covid-19 di German dari 1 Januari 2021 hingga 20 April 2022 dengan variabel dependen (Y) Cumulative_deaths (dalam satuan banyak orang) dan variabel independen (X) Cumulative_cases (dalam satuan banyak orang)"
   ]
  },
  {
   "cell_type": "markdown",
   "metadata": {},
   "source": [
    "## <font color=#00B0BA>Data Visualization\n"
   ]
  },
  {
   "cell_type": "code",
   "execution_count": 14,
   "metadata": {},
   "outputs": [
    {
     "data": {
      "image/png": "[encoded data removed]",
      "text/plain": [
       "<Figure size 720x576 with 1 Axes>"
      ]
     },
     "metadata": {
      "needs_background": "light"
     },
     "output_type": "display_data"
    }
   ],
   "source": [
    "fig, ax = plt.subplots(figsize=(10, 8))  #menunjukkan ukuran dari plot\n",
    "df3.plot(x=\"Cumulative_cases\",y=\"Cumulative_deaths\",ax=ax,kind=\"scatter\")\n",
    "plt.xlabel(\"Cumulative Cases\")\n",
    "plt.ylabel(\"Cumulative Deaths\")\n",
    "plt.show()"
   ]
  },
  {
   "cell_type": "markdown",
   "metadata": {},
   "source": [
    "Dari scatter plot di atas dapat dilihat bahwa Cumulative Cases dan Cumulative Deaths berkorelasi positif sehingga ketika Cumulative Case meningkat, Cumulative Death juga meningkat. "
   ]
  },
  {
   "cell_type": "markdown",
   "metadata": {},
   "source": [
    "## <font color=#00B0BA> Linear Regression"
   ]
  },
  {
   "cell_type": "markdown",
   "metadata": {},
   "source": [
    "### <font color=#B30019> Create and Fit Model"
   ]
  },
  {
   "cell_type": "code",
   "execution_count": 15,
   "metadata": {},
   "outputs": [],
   "source": [
    "LR = LinearRegression()"
   ]
  },
  {
   "cell_type": "code",
   "execution_count": 16,
   "metadata": {},
   "outputs": [],
   "source": [
    "X = df3[['Cumulative_cases']]\n",
    "y = df3[['Cumulative_deaths']]"
   ]
  },
  {
   "cell_type": "code",
   "execution_count": 17,
   "metadata": {},
   "outputs": [],
   "source": [
    "model = LR.fit(X,y) # membuat model dari linear regression berdasarkan independent and dependent variable\n",
    "r_sq = model.score(X, y)"
   ]
  },
  {
   "cell_type": "code",
   "execution_count": 18,
   "metadata": {},
   "outputs": [
    {
     "name": "stdout",
     "output_type": "stream",
     "text": [
      "Coefficient of determination (R^2): 0.7212792544625621\n",
      "intercept: 79259.15305627784\n",
      "slope: 0.0030237873953954664\n"
     ]
    }
   ],
   "source": [
    "print('Coefficient of determination (R^2):', r_sq)  #mengeluarkan hasil perhitungannya dengan template\n",
    "print('intercept:', model.intercept_[0])\n",
    "print('slope:', model.coef_[0][0])"
   ]
  },
  {
   "cell_type": "markdown",
   "metadata": {},
   "source": [
    "1. Interpretation of slope: One unit increment in Cumulative Cases increase the Cumulative Deaths by 0.00302\n",
    "2. Interpretation of intercept: The starting Cumulative Deaths when Cumulative Cases is 0 is 79259.15\n",
    "3. Interpretation of coefficient of determination: The result of coefficient determination shows that 72.13% of the total variation in cumulative deaths is explained by cumulative cases. "
   ]
  },
  {
   "cell_type": "markdown",
   "metadata": {},
   "source": [
    "𝑦̂ = B0 + B1X\n",
    "\n",
    "**𝑦̂ = 79259.153 + 0.00302X**"
   ]
  },
  {
   "cell_type": "markdown",
   "metadata": {},
   "source": [
    "Keterangan: \n",
    "- 𝑦̂ : estimated cumulative deaths\n",
    "- X : cumulative cases"
   ]
  },
  {
   "cell_type": "markdown",
   "metadata": {},
   "source": [
    "### <font color=#B30019>Predict Response"
   ]
  },
  {
   "cell_type": "code",
   "execution_count": 19,
   "metadata": {},
   "outputs": [
    {
     "name": "stderr",
     "output_type": "stream",
     "text": [
      "C:\\Users\\user\\AppData\\Local\\Temp/ipykernel_12720/566759712.py:2: SettingWithCopyWarning: \n",
      "A value is trying to be set on a copy of a slice from a DataFrame.\n",
      "Try using .loc[row_indexer,col_indexer] = value instead\n",
      "\n",
      "See the caveats in the documentation: https://pandas.pydata.org/pandas-docs/stable/user_guide/indexing.html#returning-a-view-versus-a-copy\n",
      "  df3['Estimated Cumulative Deaths'] = H1\n"
     ]
    },
    {
     "data": {
      "text/html": [
       "<div>\n",
       "<style scoped>\n",
       "    .dataframe tbody tr th:only-of-type {\n",
       "        vertical-align: middle;\n",
       "    }\n",
       "\n",
       "    .dataframe tbody tr th {\n",
       "        vertical-align: top;\n",
       "    }\n",
       "\n",
       "    .dataframe thead th {\n",
       "        text-align: right;\n",
       "    }\n",
       "</style>\n",
       "<table border=\"1\" class=\"dataframe\">\n",
       "  <thead>\n",
       "    <tr style=\"text-align: right;\">\n",
       "      <th></th>\n",
       "      <th>Date_reported</th>\n",
       "      <th>Country</th>\n",
       "      <th>Cumulative_cases</th>\n",
       "      <th>Cumulative_deaths</th>\n",
       "      <th>Estimated Cumulative Deaths</th>\n",
       "    </tr>\n",
       "  </thead>\n",
       "  <tbody>\n",
       "    <tr>\n",
       "      <th>65806</th>\n",
       "      <td>2021-01-01</td>\n",
       "      <td>Germany</td>\n",
       "      <td>1754442</td>\n",
       "      <td>51068</td>\n",
       "      <td>84564.212662</td>\n",
       "    </tr>\n",
       "    <tr>\n",
       "      <th>65807</th>\n",
       "      <td>2021-01-02</td>\n",
       "      <td>Germany</td>\n",
       "      <td>1764716</td>\n",
       "      <td>51483</td>\n",
       "      <td>84595.279054</td>\n",
       "    </tr>\n",
       "    <tr>\n",
       "      <th>65808</th>\n",
       "      <td>2021-01-03</td>\n",
       "      <td>Germany</td>\n",
       "      <td>1774734</td>\n",
       "      <td>52074</td>\n",
       "      <td>84625.571356</td>\n",
       "    </tr>\n",
       "    <tr>\n",
       "      <th>65809</th>\n",
       "      <td>2021-01-04</td>\n",
       "      <td>Germany</td>\n",
       "      <td>1783570</td>\n",
       "      <td>52570</td>\n",
       "      <td>84652.289541</td>\n",
       "    </tr>\n",
       "    <tr>\n",
       "      <th>65810</th>\n",
       "      <td>2021-01-05</td>\n",
       "      <td>Germany</td>\n",
       "      <td>1797879</td>\n",
       "      <td>53347</td>\n",
       "      <td>84695.556915</td>\n",
       "    </tr>\n",
       "    <tr>\n",
       "      <th>...</th>\n",
       "      <td>...</td>\n",
       "      <td>...</td>\n",
       "      <td>...</td>\n",
       "      <td>...</td>\n",
       "      <td>...</td>\n",
       "    </tr>\n",
       "    <tr>\n",
       "      <th>66276</th>\n",
       "      <td>2022-04-16</td>\n",
       "      <td>Germany</td>\n",
       "      <td>23443414</td>\n",
       "      <td>133279</td>\n",
       "      <td>150147.052815</td>\n",
       "    </tr>\n",
       "    <tr>\n",
       "      <th>66277</th>\n",
       "      <td>2022-04-17</td>\n",
       "      <td>Germany</td>\n",
       "      <td>23490420</td>\n",
       "      <td>133284</td>\n",
       "      <td>150289.188965</td>\n",
       "    </tr>\n",
       "    <tr>\n",
       "      <th>66278</th>\n",
       "      <td>2022-04-18</td>\n",
       "      <td>Germany</td>\n",
       "      <td>23520187</td>\n",
       "      <td>133290</td>\n",
       "      <td>150379.198044</td>\n",
       "    </tr>\n",
       "    <tr>\n",
       "      <th>66279</th>\n",
       "      <td>2022-04-19</td>\n",
       "      <td>Germany</td>\n",
       "      <td>23550701</td>\n",
       "      <td>133296</td>\n",
       "      <td>150471.465893</td>\n",
       "    </tr>\n",
       "    <tr>\n",
       "      <th>66280</th>\n",
       "      <td>2022-04-20</td>\n",
       "      <td>Germany</td>\n",
       "      <td>23658211</td>\n",
       "      <td>133308</td>\n",
       "      <td>150796.553276</td>\n",
       "    </tr>\n",
       "  </tbody>\n",
       "</table>\n",
       "<p>475 rows × 5 columns</p>\n",
       "</div>"
      ],
      "text/plain": [
       "      Date_reported  Country  Cumulative_cases  Cumulative_deaths  \\\n",
       "65806    2021-01-01  Germany           1754442              51068   \n",
       "65807    2021-01-02  Germany           1764716              51483   \n",
       "65808    2021-01-03  Germany           1774734              52074   \n",
       "65809    2021-01-04  Germany           1783570              52570   \n",
       "65810    2021-01-05  Germany           1797879              53347   \n",
       "...             ...      ...               ...                ...   \n",
       "66276    2022-04-16  Germany          23443414             133279   \n",
       "66277    2022-04-17  Germany          23490420             133284   \n",
       "66278    2022-04-18  Germany          23520187             133290   \n",
       "66279    2022-04-19  Germany          23550701             133296   \n",
       "66280    2022-04-20  Germany          23658211             133308   \n",
       "\n",
       "       Estimated Cumulative Deaths  \n",
       "65806                 84564.212662  \n",
       "65807                 84595.279054  \n",
       "65808                 84625.571356  \n",
       "65809                 84652.289541  \n",
       "65810                 84695.556915  \n",
       "...                            ...  \n",
       "66276                150147.052815  \n",
       "66277                150289.188965  \n",
       "66278                150379.198044  \n",
       "66279                150471.465893  \n",
       "66280                150796.553276  \n",
       "\n",
       "[475 rows x 5 columns]"
      ]
     },
     "execution_count": 19,
     "metadata": {},
     "output_type": "execute_result"
    }
   ],
   "source": [
    "H1 = model.predict(X)\n",
    "df3['Estimated Cumulative Deaths'] = H1\n",
    "df3"
   ]
  },
  {
   "cell_type": "markdown",
   "metadata": {},
   "source": [
    "### <font color=#B30019> Residual"
   ]
  },
  {
   "cell_type": "code",
   "execution_count": 20,
   "metadata": {},
   "outputs": [
    {
     "name": "stderr",
     "output_type": "stream",
     "text": [
      "C:\\Users\\user\\AppData\\Local\\Temp/ipykernel_12720/154345052.py:1: SettingWithCopyWarning: \n",
      "A value is trying to be set on a copy of a slice from a DataFrame.\n",
      "Try using .loc[row_indexer,col_indexer] = value instead\n",
      "\n",
      "See the caveats in the documentation: https://pandas.pydata.org/pandas-docs/stable/user_guide/indexing.html#returning-a-view-versus-a-copy\n",
      "  df3['Residual'] = df3['Cumulative_deaths'] - df3['Estimated Cumulative Deaths'] #residual = actual - estimated ---> u = y - yhead\n"
     ]
    },
    {
     "data": {
      "text/html": [
       "<div>\n",
       "<style scoped>\n",
       "    .dataframe tbody tr th:only-of-type {\n",
       "        vertical-align: middle;\n",
       "    }\n",
       "\n",
       "    .dataframe tbody tr th {\n",
       "        vertical-align: top;\n",
       "    }\n",
       "\n",
       "    .dataframe thead th {\n",
       "        text-align: right;\n",
       "    }\n",
       "</style>\n",
       "<table border=\"1\" class=\"dataframe\">\n",
       "  <thead>\n",
       "    <tr style=\"text-align: right;\">\n",
       "      <th></th>\n",
       "      <th>Date_reported</th>\n",
       "      <th>Country</th>\n",
       "      <th>Cumulative_cases</th>\n",
       "      <th>Cumulative_deaths</th>\n",
       "      <th>Estimated Cumulative Deaths</th>\n",
       "      <th>Residual</th>\n",
       "    </tr>\n",
       "  </thead>\n",
       "  <tbody>\n",
       "    <tr>\n",
       "      <th>65806</th>\n",
       "      <td>2021-01-01</td>\n",
       "      <td>Germany</td>\n",
       "      <td>1754442</td>\n",
       "      <td>51068</td>\n",
       "      <td>84564.212662</td>\n",
       "      <td>-33496.212662</td>\n",
       "    </tr>\n",
       "    <tr>\n",
       "      <th>65807</th>\n",
       "      <td>2021-01-02</td>\n",
       "      <td>Germany</td>\n",
       "      <td>1764716</td>\n",
       "      <td>51483</td>\n",
       "      <td>84595.279054</td>\n",
       "      <td>-33112.279054</td>\n",
       "    </tr>\n",
       "    <tr>\n",
       "      <th>65808</th>\n",
       "      <td>2021-01-03</td>\n",
       "      <td>Germany</td>\n",
       "      <td>1774734</td>\n",
       "      <td>52074</td>\n",
       "      <td>84625.571356</td>\n",
       "      <td>-32551.571356</td>\n",
       "    </tr>\n",
       "    <tr>\n",
       "      <th>65809</th>\n",
       "      <td>2021-01-04</td>\n",
       "      <td>Germany</td>\n",
       "      <td>1783570</td>\n",
       "      <td>52570</td>\n",
       "      <td>84652.289541</td>\n",
       "      <td>-32082.289541</td>\n",
       "    </tr>\n",
       "    <tr>\n",
       "      <th>65810</th>\n",
       "      <td>2021-01-05</td>\n",
       "      <td>Germany</td>\n",
       "      <td>1797879</td>\n",
       "      <td>53347</td>\n",
       "      <td>84695.556915</td>\n",
       "      <td>-31348.556915</td>\n",
       "    </tr>\n",
       "    <tr>\n",
       "      <th>...</th>\n",
       "      <td>...</td>\n",
       "      <td>...</td>\n",
       "      <td>...</td>\n",
       "      <td>...</td>\n",
       "      <td>...</td>\n",
       "      <td>...</td>\n",
       "    </tr>\n",
       "    <tr>\n",
       "      <th>66276</th>\n",
       "      <td>2022-04-16</td>\n",
       "      <td>Germany</td>\n",
       "      <td>23443414</td>\n",
       "      <td>133279</td>\n",
       "      <td>150147.052815</td>\n",
       "      <td>-16868.052815</td>\n",
       "    </tr>\n",
       "    <tr>\n",
       "      <th>66277</th>\n",
       "      <td>2022-04-17</td>\n",
       "      <td>Germany</td>\n",
       "      <td>23490420</td>\n",
       "      <td>133284</td>\n",
       "      <td>150289.188965</td>\n",
       "      <td>-17005.188965</td>\n",
       "    </tr>\n",
       "    <tr>\n",
       "      <th>66278</th>\n",
       "      <td>2022-04-18</td>\n",
       "      <td>Germany</td>\n",
       "      <td>23520187</td>\n",
       "      <td>133290</td>\n",
       "      <td>150379.198044</td>\n",
       "      <td>-17089.198044</td>\n",
       "    </tr>\n",
       "    <tr>\n",
       "      <th>66279</th>\n",
       "      <td>2022-04-19</td>\n",
       "      <td>Germany</td>\n",
       "      <td>23550701</td>\n",
       "      <td>133296</td>\n",
       "      <td>150471.465893</td>\n",
       "      <td>-17175.465893</td>\n",
       "    </tr>\n",
       "    <tr>\n",
       "      <th>66280</th>\n",
       "      <td>2022-04-20</td>\n",
       "      <td>Germany</td>\n",
       "      <td>23658211</td>\n",
       "      <td>133308</td>\n",
       "      <td>150796.553276</td>\n",
       "      <td>-17488.553276</td>\n",
       "    </tr>\n",
       "  </tbody>\n",
       "</table>\n",
       "<p>475 rows × 6 columns</p>\n",
       "</div>"
      ],
      "text/plain": [
       "      Date_reported  Country  Cumulative_cases  Cumulative_deaths  \\\n",
       "65806    2021-01-01  Germany           1754442              51068   \n",
       "65807    2021-01-02  Germany           1764716              51483   \n",
       "65808    2021-01-03  Germany           1774734              52074   \n",
       "65809    2021-01-04  Germany           1783570              52570   \n",
       "65810    2021-01-05  Germany           1797879              53347   \n",
       "...             ...      ...               ...                ...   \n",
       "66276    2022-04-16  Germany          23443414             133279   \n",
       "66277    2022-04-17  Germany          23490420             133284   \n",
       "66278    2022-04-18  Germany          23520187             133290   \n",
       "66279    2022-04-19  Germany          23550701             133296   \n",
       "66280    2022-04-20  Germany          23658211             133308   \n",
       "\n",
       "       Estimated Cumulative Deaths      Residual  \n",
       "65806                 84564.212662 -33496.212662  \n",
       "65807                 84595.279054 -33112.279054  \n",
       "65808                 84625.571356 -32551.571356  \n",
       "65809                 84652.289541 -32082.289541  \n",
       "65810                 84695.556915 -31348.556915  \n",
       "...                            ...           ...  \n",
       "66276                150147.052815 -16868.052815  \n",
       "66277                150289.188965 -17005.188965  \n",
       "66278                150379.198044 -17089.198044  \n",
       "66279                150471.465893 -17175.465893  \n",
       "66280                150796.553276 -17488.553276  \n",
       "\n",
       "[475 rows x 6 columns]"
      ]
     },
     "execution_count": 20,
     "metadata": {},
     "output_type": "execute_result"
    }
   ],
   "source": [
    "df3['Residual'] = df3['Cumulative_deaths'] - df3['Estimated Cumulative Deaths'] #residual = actual - estimated ---> u = y - yhead\n",
    "df3"
   ]
  },
  {
   "cell_type": "code",
   "execution_count": 21,
   "metadata": {
    "scrolled": true
   },
   "outputs": [
    {
     "data": {
      "image/png": "[encoded data removed]",
      "text/plain": [
       "<Figure size 720x360 with 1 Axes>"
      ]
     },
     "metadata": {
      "needs_background": "light"
     },
     "output_type": "display_data"
    }
   ],
   "source": [
    "fig, ax = plt.subplots(figsize=(10, 5)) \n",
    "plt.scatter(df3['Cumulative_cases'],df3['Cumulative_deaths'], color=\"blue\", marker=\"+\")\n",
    "plt.plot(X,LR.predict(X), color=\"red\")\n",
    "plt.ylabel('Cumulative Deaths')\n",
    "plt.xlabel('Cumulative Cases')\n",
    "plt.title(\"Scatter plot with regression line of Cumulative Cases and Cumulative Deaths\")\n",
    "plt.show()"
   ]
  },
  {
   "cell_type": "code",
   "execution_count": 22,
   "metadata": {
    "scrolled": false
   },
   "outputs": [
    {
     "name": "stdout",
     "output_type": "stream",
     "text": [
      "                            OLS Regression Results                            \n",
      "==============================================================================\n",
      "Dep. Variable:                      y   R-squared:                       0.721\n",
      "Model:                            OLS   Adj. R-squared:                  0.721\n",
      "Method:                 Least Squares   F-statistic:                     1224.\n",
      "Date:                Tue, 26 Apr 2022   Prob (F-statistic):          2.61e-133\n",
      "Time:                        08:06:04   Log-Likelihood:                -5057.4\n",
      "No. Observations:                 475   AIC:                         1.012e+04\n",
      "Df Residuals:                     473   BIC:                         1.013e+04\n",
      "Df Model:                           1                                         \n",
      "Covariance Type:            nonrobust                                         \n",
      "==============================================================================\n",
      "                 coef    std err          t      P>|t|      [0.025      0.975]\n",
      "------------------------------------------------------------------------------\n",
      "const       7.926e+04    718.961    110.241      0.000    7.78e+04    8.07e+04\n",
      "x1             0.0030   8.64e-05     34.986      0.000       0.003       0.003\n",
      "==============================================================================\n",
      "Omnibus:                       44.471   Durbin-Watson:                   0.001\n",
      "Prob(Omnibus):                  0.000   Jarque-Bera (JB):               55.568\n",
      "Skew:                          -0.754   Prob(JB):                     8.58e-13\n",
      "Kurtosis:                       3.732   Cond. No.                     1.28e+07\n",
      "==============================================================================\n",
      "\n",
      "Notes:\n",
      "[1] Standard Errors assume that the covariance matrix of the errors is correctly specified.\n",
      "[2] The condition number is large, 1.28e+07. This might indicate that there are\n",
      "strong multicollinearity or other numerical problems.\n"
     ]
    }
   ],
   "source": [
    "x = sm.add_constant(df3['Cumulative_cases'].to_numpy())\n",
    "Y = df3['Cumulative_deaths'].to_numpy()\n",
    "LR1 = sm.OLS(Y, x)\n",
    "model2 = LR1.fit()\n",
    "print(model2.summary())"
   ]
  },
  {
   "cell_type": "markdown",
   "metadata": {},
   "source": [
    "## <font color=#00B0BA> Uji Asumsi Klasik"
   ]
  },
  {
   "cell_type": "markdown",
   "metadata": {},
   "source": [
    "Dari summary OLS Regression di atas, dapat dilakukan uji asumsi klasik auto-correlation dan normality.\n",
    "\n",
    "1. Test statistik durbin watson digunakan untuk mendeteksi autocorrelation pada residual dalam analisis regresi. Dari summary di atas dapat dilihat bahwa nilai dari Durbin Watson sebesar 0.001 menandakan bahwa ada autokorelasi pada residual karena hasil dari Durbin Watson tidak ada berada di rentang toleransi interval nilai DW 1,5 - 2,5 (rule of thumb).\n",
    "2. Jarque-Bera test dengan alpha 5%, H0: distribusi dari residual adalah distribusi normal, H1: distribusi dari residual bukan distribusi normal. Dari hasil di atas dapat dilihat bahwa Probabilitas dari Jarque-Bera lebih kecil daripada alpha (0.05), sehingga H0 ditolak dan dapat disimpulkan bahwa distribusi residual tidak normal."
   ]
  },
  {
   "cell_type": "markdown",
   "metadata": {},
   "source": [
    "### <font color=#B30019>Heteroscedasticity test"
   ]
  },
  {
   "cell_type": "code",
   "execution_count": 23,
   "metadata": {
    "scrolled": false
   },
   "outputs": [
    {
     "data": {
      "image/png": "[encoded data removed]",
      "text/plain": [
       "<Figure size 432x288 with 1 Axes>"
      ]
     },
     "metadata": {
      "needs_background": "light"
     },
     "output_type": "display_data"
    }
   ],
   "source": [
    "fitted = 79259.15305627784 + (0.0030237873953954664 * df3.Cumulative_cases) \n",
    "fig = plt.figure()\n",
    "axes = fig.add_axes([0, 0, 1.0, 1.0]) \n",
    "axes.axhline(color=\"black\", ls=\"--\") # This creates a horizon line (like abline in R)\n",
    "axes.set_xlabel('Fitted Value')\n",
    "axes.set_ylabel('Residuals')\n",
    "axes.set_title('Residuals Versus Fits')\n",
    "axes.scatter(fitted, df3[\"Cumulative_deaths\"]  - fitted, marker = \"o\")\n",
    "plt.show()"
   ]
  },
  {
   "cell_type": "markdown",
   "metadata": {},
   "source": [
    "From the visualization above we can conclude that the residuals are not distributed with equal variance or in other words heteroscedasticity is present"
   ]
  },
  {
   "cell_type": "markdown",
   "metadata": {},
   "source": [
    "### <font color=#B30019>Linearity test"
   ]
  },
  {
   "cell_type": "code",
   "execution_count": 24,
   "metadata": {},
   "outputs": [
    {
     "name": "stderr",
     "output_type": "stream",
     "text": [
      "C:\\Users\\user\\anaconda3\\lib\\site-packages\\seaborn\\regression.py:581: UserWarning: The `size` parameter has been renamed to `height`; please update your code.\n",
      "  warnings.warn(msg, UserWarning)\n"
     ]
    },
    {
     "data": {
      "image/png": "[encoded data removed]",
      "text/plain": [
       "<Figure size 576x576 with 1 Axes>"
      ]
     },
     "metadata": {
      "needs_background": "light"
     },
     "output_type": "display_data"
    }
   ],
   "source": [
    "sns.lmplot(x='Cumulative_deaths', y='Estimated Cumulative Deaths', data=df3, fit_reg=False, size=8)\n",
    "    \n",
    "# Plotting the diagonal line\n",
    "line_coords = np.arange(df3[['Cumulative_deaths', 'Estimated Cumulative Deaths']].min().min()-10, \n",
    "                        df3[['Cumulative_deaths','Estimated Cumulative Deaths']].max().max()+10)\n",
    "plt.plot(line_coords, line_coords,  # X and y points\n",
    "         color='darkorange', linestyle='--')\n",
    "\n",
    "plt.ylabel('Estimated Cumulative Deaths', fontsize=14)\n",
    "plt.xlabel('Actual Cumulative Deaths', fontsize=14)\n",
    "plt.title('Linearity Assumption', fontsize=16)\n",
    "plt.show()"
   ]
  },
  {
   "cell_type": "markdown",
   "metadata": {},
   "source": [
    "Plot sebar menunjukkan titik sisa yang tersebar tidak merata di sekitar garis diagonal, sehingga kita tidak dapat mengasumsikan bahwa ada hubungan linier antara variabel independen dan dependen."
   ]
  },
  {
   "cell_type": "markdown",
   "metadata": {},
   "source": [
    "Dari uji asumsi klasik yang telah dilakukan dapat dilihat bawa:\n",
    "\n",
    "- Distribusi dari residual tidak berdistribusi normal\n",
    "- Terdapat heteroscedasticity\n",
    "- Tidak terdapat hubungan linear antara dependen variabel dan independen variabel\n",
    "- Terdapat auto-correlation mengingat bahwa data yang digunakan adalah data time-series\n",
    "\n",
    "Berdasarkan hasil uji asumsi klasik di atas, dapat dikatakan bahwa pemodelan ini memiliki performa yang kurang baik untuk memprediksi Cumulative deaths berdasarkan Cumulative cases. Oleh karena itu, dalam melakukan pemodelan perlu dilakukan transformasi supaya model dapat menjadi lebih akurat. \n",
    "\n",
    "Dalam hal ini kami menggunakan **log reciprocal** karena:\n",
    "- Pada awalnya Cumulative Deaths mengalami kenaikan dengan tingkat kenaikan, tetapi setelah itu grafik meningkat pada tingkat yang menurun\n",
    "- Linear in parameter but non linear in variable"
   ]
  },
  {
   "cell_type": "markdown",
   "metadata": {},
   "source": [
    "## <font color=#00B0BA>Transformasi"
   ]
  },
  {
   "cell_type": "markdown",
   "metadata": {},
   "source": [
    "Log-Reciprocal Formula: \n",
    "\n",
    "**lnY = B1 - B2 (1/X)**"
   ]
  },
  {
   "cell_type": "code",
   "execution_count": 25,
   "metadata": {},
   "outputs": [
    {
     "data": {
      "text/html": [
       "<div>\n",
       "<style scoped>\n",
       "    .dataframe tbody tr th:only-of-type {\n",
       "        vertical-align: middle;\n",
       "    }\n",
       "\n",
       "    .dataframe tbody tr th {\n",
       "        vertical-align: top;\n",
       "    }\n",
       "\n",
       "    .dataframe thead th {\n",
       "        text-align: right;\n",
       "    }\n",
       "</style>\n",
       "<table border=\"1\" class=\"dataframe\">\n",
       "  <thead>\n",
       "    <tr style=\"text-align: right;\">\n",
       "      <th></th>\n",
       "      <th>Cumulative_cases</th>\n",
       "      <th>Cumulative_deaths</th>\n",
       "    </tr>\n",
       "  </thead>\n",
       "  <tbody>\n",
       "    <tr>\n",
       "      <th>65806</th>\n",
       "      <td>1754442</td>\n",
       "      <td>51068</td>\n",
       "    </tr>\n",
       "    <tr>\n",
       "      <th>65807</th>\n",
       "      <td>1764716</td>\n",
       "      <td>51483</td>\n",
       "    </tr>\n",
       "    <tr>\n",
       "      <th>65808</th>\n",
       "      <td>1774734</td>\n",
       "      <td>52074</td>\n",
       "    </tr>\n",
       "    <tr>\n",
       "      <th>65809</th>\n",
       "      <td>1783570</td>\n",
       "      <td>52570</td>\n",
       "    </tr>\n",
       "    <tr>\n",
       "      <th>65810</th>\n",
       "      <td>1797879</td>\n",
       "      <td>53347</td>\n",
       "    </tr>\n",
       "    <tr>\n",
       "      <th>...</th>\n",
       "      <td>...</td>\n",
       "      <td>...</td>\n",
       "    </tr>\n",
       "    <tr>\n",
       "      <th>66276</th>\n",
       "      <td>23443414</td>\n",
       "      <td>133279</td>\n",
       "    </tr>\n",
       "    <tr>\n",
       "      <th>66277</th>\n",
       "      <td>23490420</td>\n",
       "      <td>133284</td>\n",
       "    </tr>\n",
       "    <tr>\n",
       "      <th>66278</th>\n",
       "      <td>23520187</td>\n",
       "      <td>133290</td>\n",
       "    </tr>\n",
       "    <tr>\n",
       "      <th>66279</th>\n",
       "      <td>23550701</td>\n",
       "      <td>133296</td>\n",
       "    </tr>\n",
       "    <tr>\n",
       "      <th>66280</th>\n",
       "      <td>23658211</td>\n",
       "      <td>133308</td>\n",
       "    </tr>\n",
       "  </tbody>\n",
       "</table>\n",
       "<p>475 rows × 2 columns</p>\n",
       "</div>"
      ],
      "text/plain": [
       "       Cumulative_cases  Cumulative_deaths\n",
       "65806           1754442              51068\n",
       "65807           1764716              51483\n",
       "65808           1774734              52074\n",
       "65809           1783570              52570\n",
       "65810           1797879              53347\n",
       "...                 ...                ...\n",
       "66276          23443414             133279\n",
       "66277          23490420             133284\n",
       "66278          23520187             133290\n",
       "66279          23550701             133296\n",
       "66280          23658211             133308\n",
       "\n",
       "[475 rows x 2 columns]"
      ]
     },
     "execution_count": 25,
     "metadata": {},
     "output_type": "execute_result"
    }
   ],
   "source": [
    "df4 = df3[['Cumulative_cases','Cumulative_deaths']]\n",
    "df4"
   ]
  },
  {
   "cell_type": "markdown",
   "metadata": {},
   "source": [
    "### <font color=#B30019>Transform X (Cumulative Cases)"
   ]
  },
  {
   "cell_type": "code",
   "execution_count": 26,
   "metadata": {},
   "outputs": [
    {
     "name": "stderr",
     "output_type": "stream",
     "text": [
      "C:\\Users\\user\\AppData\\Local\\Temp/ipykernel_12720/86610853.py:1: SettingWithCopyWarning: \n",
      "A value is trying to be set on a copy of a slice from a DataFrame.\n",
      "Try using .loc[row_indexer,col_indexer] = value instead\n",
      "\n",
      "See the caveats in the documentation: https://pandas.pydata.org/pandas-docs/stable/user_guide/indexing.html#returning-a-view-versus-a-copy\n",
      "  df4['Cumulative_cases_trans'] = 1/df4['Cumulative_cases']\n"
     ]
    },
    {
     "data": {
      "text/html": [
       "<div>\n",
       "<style scoped>\n",
       "    .dataframe tbody tr th:only-of-type {\n",
       "        vertical-align: middle;\n",
       "    }\n",
       "\n",
       "    .dataframe tbody tr th {\n",
       "        vertical-align: top;\n",
       "    }\n",
       "\n",
       "    .dataframe thead th {\n",
       "        text-align: right;\n",
       "    }\n",
       "</style>\n",
       "<table border=\"1\" class=\"dataframe\">\n",
       "  <thead>\n",
       "    <tr style=\"text-align: right;\">\n",
       "      <th></th>\n",
       "      <th>Cumulative_cases</th>\n",
       "      <th>Cumulative_deaths</th>\n",
       "      <th>Cumulative_cases_trans</th>\n",
       "    </tr>\n",
       "  </thead>\n",
       "  <tbody>\n",
       "    <tr>\n",
       "      <th>65806</th>\n",
       "      <td>1754442</td>\n",
       "      <td>51068</td>\n",
       "      <td>5.699818e-07</td>\n",
       "    </tr>\n",
       "    <tr>\n",
       "      <th>65807</th>\n",
       "      <td>1764716</td>\n",
       "      <td>51483</td>\n",
       "      <td>5.666634e-07</td>\n",
       "    </tr>\n",
       "    <tr>\n",
       "      <th>65808</th>\n",
       "      <td>1774734</td>\n",
       "      <td>52074</td>\n",
       "      <td>5.634647e-07</td>\n",
       "    </tr>\n",
       "    <tr>\n",
       "      <th>65809</th>\n",
       "      <td>1783570</td>\n",
       "      <td>52570</td>\n",
       "      <td>5.606733e-07</td>\n",
       "    </tr>\n",
       "    <tr>\n",
       "      <th>65810</th>\n",
       "      <td>1797879</td>\n",
       "      <td>53347</td>\n",
       "      <td>5.562110e-07</td>\n",
       "    </tr>\n",
       "    <tr>\n",
       "      <th>...</th>\n",
       "      <td>...</td>\n",
       "      <td>...</td>\n",
       "      <td>...</td>\n",
       "    </tr>\n",
       "    <tr>\n",
       "      <th>66276</th>\n",
       "      <td>23443414</td>\n",
       "      <td>133279</td>\n",
       "      <td>4.265590e-08</td>\n",
       "    </tr>\n",
       "    <tr>\n",
       "      <th>66277</th>\n",
       "      <td>23490420</td>\n",
       "      <td>133284</td>\n",
       "      <td>4.257055e-08</td>\n",
       "    </tr>\n",
       "    <tr>\n",
       "      <th>66278</th>\n",
       "      <td>23520187</td>\n",
       "      <td>133290</td>\n",
       "      <td>4.251667e-08</td>\n",
       "    </tr>\n",
       "    <tr>\n",
       "      <th>66279</th>\n",
       "      <td>23550701</td>\n",
       "      <td>133296</td>\n",
       "      <td>4.246158e-08</td>\n",
       "    </tr>\n",
       "    <tr>\n",
       "      <th>66280</th>\n",
       "      <td>23658211</td>\n",
       "      <td>133308</td>\n",
       "      <td>4.226862e-08</td>\n",
       "    </tr>\n",
       "  </tbody>\n",
       "</table>\n",
       "<p>475 rows × 3 columns</p>\n",
       "</div>"
      ],
      "text/plain": [
       "       Cumulative_cases  Cumulative_deaths  Cumulative_cases_trans\n",
       "65806           1754442              51068            5.699818e-07\n",
       "65807           1764716              51483            5.666634e-07\n",
       "65808           1774734              52074            5.634647e-07\n",
       "65809           1783570              52570            5.606733e-07\n",
       "65810           1797879              53347            5.562110e-07\n",
       "...                 ...                ...                     ...\n",
       "66276          23443414             133279            4.265590e-08\n",
       "66277          23490420             133284            4.257055e-08\n",
       "66278          23520187             133290            4.251667e-08\n",
       "66279          23550701             133296            4.246158e-08\n",
       "66280          23658211             133308            4.226862e-08\n",
       "\n",
       "[475 rows x 3 columns]"
      ]
     },
     "execution_count": 26,
     "metadata": {},
     "output_type": "execute_result"
    }
   ],
   "source": [
    "df4['Cumulative_cases_trans'] = 1/df4['Cumulative_cases']\n",
    "df4"
   ]
  },
  {
   "cell_type": "markdown",
   "metadata": {},
   "source": [
    "### <font color=#B30019>Transform Y (Cumulative Deaths)"
   ]
  },
  {
   "cell_type": "code",
   "execution_count": 27,
   "metadata": {
    "scrolled": false
   },
   "outputs": [
    {
     "name": "stderr",
     "output_type": "stream",
     "text": [
      "C:\\Users\\user\\AppData\\Local\\Temp/ipykernel_12720/553524543.py:1: SettingWithCopyWarning: \n",
      "A value is trying to be set on a copy of a slice from a DataFrame.\n",
      "Try using .loc[row_indexer,col_indexer] = value instead\n",
      "\n",
      "See the caveats in the documentation: https://pandas.pydata.org/pandas-docs/stable/user_guide/indexing.html#returning-a-view-versus-a-copy\n",
      "  df4['Cumulative_deaths_trans'] = np.log(df4['Cumulative_deaths'])\n"
     ]
    },
    {
     "data": {
      "text/html": [
       "<div>\n",
       "<style scoped>\n",
       "    .dataframe tbody tr th:only-of-type {\n",
       "        vertical-align: middle;\n",
       "    }\n",
       "\n",
       "    .dataframe tbody tr th {\n",
       "        vertical-align: top;\n",
       "    }\n",
       "\n",
       "    .dataframe thead th {\n",
       "        text-align: right;\n",
       "    }\n",
       "</style>\n",
       "<table border=\"1\" class=\"dataframe\">\n",
       "  <thead>\n",
       "    <tr style=\"text-align: right;\">\n",
       "      <th></th>\n",
       "      <th>Cumulative_cases</th>\n",
       "      <th>Cumulative_deaths</th>\n",
       "      <th>Cumulative_cases_trans</th>\n",
       "      <th>Cumulative_deaths_trans</th>\n",
       "    </tr>\n",
       "  </thead>\n",
       "  <tbody>\n",
       "    <tr>\n",
       "      <th>65806</th>\n",
       "      <td>1754442</td>\n",
       "      <td>51068</td>\n",
       "      <td>5.699818e-07</td>\n",
       "      <td>10.840913</td>\n",
       "    </tr>\n",
       "    <tr>\n",
       "      <th>65807</th>\n",
       "      <td>1764716</td>\n",
       "      <td>51483</td>\n",
       "      <td>5.666634e-07</td>\n",
       "      <td>10.849007</td>\n",
       "    </tr>\n",
       "    <tr>\n",
       "      <th>65808</th>\n",
       "      <td>1774734</td>\n",
       "      <td>52074</td>\n",
       "      <td>5.634647e-07</td>\n",
       "      <td>10.860421</td>\n",
       "    </tr>\n",
       "    <tr>\n",
       "      <th>65809</th>\n",
       "      <td>1783570</td>\n",
       "      <td>52570</td>\n",
       "      <td>5.606733e-07</td>\n",
       "      <td>10.869901</td>\n",
       "    </tr>\n",
       "    <tr>\n",
       "      <th>65810</th>\n",
       "      <td>1797879</td>\n",
       "      <td>53347</td>\n",
       "      <td>5.562110e-07</td>\n",
       "      <td>10.884573</td>\n",
       "    </tr>\n",
       "    <tr>\n",
       "      <th>...</th>\n",
       "      <td>...</td>\n",
       "      <td>...</td>\n",
       "      <td>...</td>\n",
       "      <td>...</td>\n",
       "    </tr>\n",
       "    <tr>\n",
       "      <th>66276</th>\n",
       "      <td>23443414</td>\n",
       "      <td>133279</td>\n",
       "      <td>4.265590e-08</td>\n",
       "      <td>11.800200</td>\n",
       "    </tr>\n",
       "    <tr>\n",
       "      <th>66277</th>\n",
       "      <td>23490420</td>\n",
       "      <td>133284</td>\n",
       "      <td>4.257055e-08</td>\n",
       "      <td>11.800237</td>\n",
       "    </tr>\n",
       "    <tr>\n",
       "      <th>66278</th>\n",
       "      <td>23520187</td>\n",
       "      <td>133290</td>\n",
       "      <td>4.251667e-08</td>\n",
       "      <td>11.800282</td>\n",
       "    </tr>\n",
       "    <tr>\n",
       "      <th>66279</th>\n",
       "      <td>23550701</td>\n",
       "      <td>133296</td>\n",
       "      <td>4.246158e-08</td>\n",
       "      <td>11.800327</td>\n",
       "    </tr>\n",
       "    <tr>\n",
       "      <th>66280</th>\n",
       "      <td>23658211</td>\n",
       "      <td>133308</td>\n",
       "      <td>4.226862e-08</td>\n",
       "      <td>11.800418</td>\n",
       "    </tr>\n",
       "  </tbody>\n",
       "</table>\n",
       "<p>475 rows × 4 columns</p>\n",
       "</div>"
      ],
      "text/plain": [
       "       Cumulative_cases  Cumulative_deaths  Cumulative_cases_trans  \\\n",
       "65806           1754442              51068            5.699818e-07   \n",
       "65807           1764716              51483            5.666634e-07   \n",
       "65808           1774734              52074            5.634647e-07   \n",
       "65809           1783570              52570            5.606733e-07   \n",
       "65810           1797879              53347            5.562110e-07   \n",
       "...                 ...                ...                     ...   \n",
       "66276          23443414             133279            4.265590e-08   \n",
       "66277          23490420             133284            4.257055e-08   \n",
       "66278          23520187             133290            4.251667e-08   \n",
       "66279          23550701             133296            4.246158e-08   \n",
       "66280          23658211             133308            4.226862e-08   \n",
       "\n",
       "       Cumulative_deaths_trans  \n",
       "65806                10.840913  \n",
       "65807                10.849007  \n",
       "65808                10.860421  \n",
       "65809                10.869901  \n",
       "65810                10.884573  \n",
       "...                        ...  \n",
       "66276                11.800200  \n",
       "66277                11.800237  \n",
       "66278                11.800282  \n",
       "66279                11.800327  \n",
       "66280                11.800418  \n",
       "\n",
       "[475 rows x 4 columns]"
      ]
     },
     "execution_count": 27,
     "metadata": {},
     "output_type": "execute_result"
    }
   ],
   "source": [
    "df4['Cumulative_deaths_trans'] = np.log(df4['Cumulative_deaths'])\n",
    "df4"
   ]
  },
  {
   "cell_type": "markdown",
   "metadata": {},
   "source": [
    "## <font color=#00B0BA> Linear Regression"
   ]
  },
  {
   "cell_type": "markdown",
   "metadata": {},
   "source": [
    "### <font color=#B30019> Create and Fit Model"
   ]
  },
  {
   "cell_type": "code",
   "execution_count": 28,
   "metadata": {},
   "outputs": [],
   "source": [
    "X1 = df4[['Cumulative_cases_trans']]\n",
    "y1 = df4[['Cumulative_deaths_trans']]"
   ]
  },
  {
   "cell_type": "code",
   "execution_count": 29,
   "metadata": {},
   "outputs": [],
   "source": [
    "model1 = LR.fit(X1,y1) # membuat model dari linear regression berdasarkan independent and dependent variable\n",
    "r_sq1 = model.score(X1, y1)"
   ]
  },
  {
   "cell_type": "code",
   "execution_count": 30,
   "metadata": {},
   "outputs": [
    {
     "name": "stdout",
     "output_type": "stream",
     "text": [
      "Coefficient of determination (R^2): 0.9869574786123121\n",
      "intercept: 11.869318726865998\n",
      "slope: -1610843.8268629462\n"
     ]
    }
   ],
   "source": [
    "print('Coefficient of determination (R^2):', r_sq1)  #mengeluarkan hasil perhitungannya dengan template\n",
    "print('intercept:', model1.intercept_[0])\n",
    "print('slope:', model1.coef_[0][0])"
   ]
  },
  {
   "cell_type": "markdown",
   "metadata": {},
   "source": [
    "The result of coefficient determination after transformation shows that 98.69% of the total variation in cumulative deaths is explained by cumulative cases. This figure is very high as it closest to 100%."
   ]
  },
  {
   "cell_type": "markdown",
   "metadata": {},
   "source": [
    "Persamaan regresi linear setelah di transformasi:\n",
    "\n",
    "ln(Y) = B0 - B1 (1/X)\n",
    "\n",
    "**ln (Y) = 11.87 - 1610843.83 (1/Cumulative Cases)**"
   ]
  },
  {
   "cell_type": "markdown",
   "metadata": {},
   "source": [
    "### <font color=#B30019>Predict Response"
   ]
  },
  {
   "cell_type": "code",
   "execution_count": 31,
   "metadata": {},
   "outputs": [
    {
     "name": "stderr",
     "output_type": "stream",
     "text": [
      "C:\\Users\\user\\AppData\\Local\\Temp/ipykernel_12720/675368469.py:2: SettingWithCopyWarning: \n",
      "A value is trying to be set on a copy of a slice from a DataFrame.\n",
      "Try using .loc[row_indexer,col_indexer] = value instead\n",
      "\n",
      "See the caveats in the documentation: https://pandas.pydata.org/pandas-docs/stable/user_guide/indexing.html#returning-a-view-versus-a-copy\n",
      "  df4['Estimated Deaths Transformation'] = H\n"
     ]
    },
    {
     "data": {
      "text/html": [
       "<div>\n",
       "<style scoped>\n",
       "    .dataframe tbody tr th:only-of-type {\n",
       "        vertical-align: middle;\n",
       "    }\n",
       "\n",
       "    .dataframe tbody tr th {\n",
       "        vertical-align: top;\n",
       "    }\n",
       "\n",
       "    .dataframe thead th {\n",
       "        text-align: right;\n",
       "    }\n",
       "</style>\n",
       "<table border=\"1\" class=\"dataframe\">\n",
       "  <thead>\n",
       "    <tr style=\"text-align: right;\">\n",
       "      <th></th>\n",
       "      <th>Cumulative_cases</th>\n",
       "      <th>Cumulative_deaths</th>\n",
       "      <th>Cumulative_cases_trans</th>\n",
       "      <th>Cumulative_deaths_trans</th>\n",
       "      <th>Estimated Deaths Transformation</th>\n",
       "    </tr>\n",
       "  </thead>\n",
       "  <tbody>\n",
       "    <tr>\n",
       "      <th>65806</th>\n",
       "      <td>1754442</td>\n",
       "      <td>51068</td>\n",
       "      <td>5.699818e-07</td>\n",
       "      <td>10.840913</td>\n",
       "      <td>10.951167</td>\n",
       "    </tr>\n",
       "    <tr>\n",
       "      <th>65807</th>\n",
       "      <td>1764716</td>\n",
       "      <td>51483</td>\n",
       "      <td>5.666634e-07</td>\n",
       "      <td>10.849007</td>\n",
       "      <td>10.956512</td>\n",
       "    </tr>\n",
       "    <tr>\n",
       "      <th>65808</th>\n",
       "      <td>1774734</td>\n",
       "      <td>52074</td>\n",
       "      <td>5.634647e-07</td>\n",
       "      <td>10.860421</td>\n",
       "      <td>10.961665</td>\n",
       "    </tr>\n",
       "    <tr>\n",
       "      <th>65809</th>\n",
       "      <td>1783570</td>\n",
       "      <td>52570</td>\n",
       "      <td>5.606733e-07</td>\n",
       "      <td>10.869901</td>\n",
       "      <td>10.966162</td>\n",
       "    </tr>\n",
       "    <tr>\n",
       "      <th>65810</th>\n",
       "      <td>1797879</td>\n",
       "      <td>53347</td>\n",
       "      <td>5.562110e-07</td>\n",
       "      <td>10.884573</td>\n",
       "      <td>10.973350</td>\n",
       "    </tr>\n",
       "    <tr>\n",
       "      <th>...</th>\n",
       "      <td>...</td>\n",
       "      <td>...</td>\n",
       "      <td>...</td>\n",
       "      <td>...</td>\n",
       "      <td>...</td>\n",
       "    </tr>\n",
       "    <tr>\n",
       "      <th>66276</th>\n",
       "      <td>23443414</td>\n",
       "      <td>133279</td>\n",
       "      <td>4.265590e-08</td>\n",
       "      <td>11.800200</td>\n",
       "      <td>11.800607</td>\n",
       "    </tr>\n",
       "    <tr>\n",
       "      <th>66277</th>\n",
       "      <td>23490420</td>\n",
       "      <td>133284</td>\n",
       "      <td>4.257055e-08</td>\n",
       "      <td>11.800237</td>\n",
       "      <td>11.800744</td>\n",
       "    </tr>\n",
       "    <tr>\n",
       "      <th>66278</th>\n",
       "      <td>23520187</td>\n",
       "      <td>133290</td>\n",
       "      <td>4.251667e-08</td>\n",
       "      <td>11.800282</td>\n",
       "      <td>11.800831</td>\n",
       "    </tr>\n",
       "    <tr>\n",
       "      <th>66279</th>\n",
       "      <td>23550701</td>\n",
       "      <td>133296</td>\n",
       "      <td>4.246158e-08</td>\n",
       "      <td>11.800327</td>\n",
       "      <td>11.800920</td>\n",
       "    </tr>\n",
       "    <tr>\n",
       "      <th>66280</th>\n",
       "      <td>23658211</td>\n",
       "      <td>133308</td>\n",
       "      <td>4.226862e-08</td>\n",
       "      <td>11.800418</td>\n",
       "      <td>11.801231</td>\n",
       "    </tr>\n",
       "  </tbody>\n",
       "</table>\n",
       "<p>475 rows × 5 columns</p>\n",
       "</div>"
      ],
      "text/plain": [
       "       Cumulative_cases  Cumulative_deaths  Cumulative_cases_trans  \\\n",
       "65806           1754442              51068            5.699818e-07   \n",
       "65807           1764716              51483            5.666634e-07   \n",
       "65808           1774734              52074            5.634647e-07   \n",
       "65809           1783570              52570            5.606733e-07   \n",
       "65810           1797879              53347            5.562110e-07   \n",
       "...                 ...                ...                     ...   \n",
       "66276          23443414             133279            4.265590e-08   \n",
       "66277          23490420             133284            4.257055e-08   \n",
       "66278          23520187             133290            4.251667e-08   \n",
       "66279          23550701             133296            4.246158e-08   \n",
       "66280          23658211             133308            4.226862e-08   \n",
       "\n",
       "       Cumulative_deaths_trans  Estimated Deaths Transformation  \n",
       "65806                10.840913                        10.951167  \n",
       "65807                10.849007                        10.956512  \n",
       "65808                10.860421                        10.961665  \n",
       "65809                10.869901                        10.966162  \n",
       "65810                10.884573                        10.973350  \n",
       "...                        ...                              ...  \n",
       "66276                11.800200                        11.800607  \n",
       "66277                11.800237                        11.800744  \n",
       "66278                11.800282                        11.800831  \n",
       "66279                11.800327                        11.800920  \n",
       "66280                11.800418                        11.801231  \n",
       "\n",
       "[475 rows x 5 columns]"
      ]
     },
     "execution_count": 31,
     "metadata": {},
     "output_type": "execute_result"
    }
   ],
   "source": [
    "H = model1.predict(X1)\n",
    "df4['Estimated Deaths Transformation'] = H\n",
    "df4"
   ]
  },
  {
   "cell_type": "code",
   "execution_count": 32,
   "metadata": {},
   "outputs": [
    {
     "data": {
      "image/png": "[encoded data removed]",
      "text/plain": [
       "<Figure size 720x576 with 1 Axes>"
      ]
     },
     "metadata": {
      "needs_background": "light"
     },
     "output_type": "display_data"
    }
   ],
   "source": [
    "fig, ax = plt.subplots(figsize=(10, 8)) \n",
    "plt.scatter(df4['Cumulative_cases_trans'],df4['Cumulative_deaths_trans'], color=\"blue\", marker=\"+\")\n",
    "plt.plot(X1,LR.predict(X1), color=\"red\")\n",
    "plt.ylabel('ln(Cumulative Deaths)')\n",
    "plt.xlabel('1/(Cumulative Cases)')\n",
    "plt.show()"
   ]
  },
  {
   "cell_type": "markdown",
   "metadata": {},
   "source": [
    "### <font color=#B30019>Mengembalikan model dalam Y* = B0 + B1 X*"
   ]
  },
  {
   "cell_type": "markdown",
   "metadata": {},
   "source": [
    "- Y* = ln(Cumulative Deaths)\n",
    "- B0 = B0\n",
    "- B1 = B1\n",
    "- X* = 1/Cumulative Cases\n",
    "\n",
    "ln(cumulative deaths) = B0 - B1 * (1/Cumulative Cases)\n",
    "\n",
    "Cumulative deaths = exp(B0 - (B1*(1/Cumulative Cases))"
   ]
  },
  {
   "cell_type": "code",
   "execution_count": 33,
   "metadata": {},
   "outputs": [
    {
     "data": {
      "text/html": [
       "<div>\n",
       "<style scoped>\n",
       "    .dataframe tbody tr th:only-of-type {\n",
       "        vertical-align: middle;\n",
       "    }\n",
       "\n",
       "    .dataframe tbody tr th {\n",
       "        vertical-align: top;\n",
       "    }\n",
       "\n",
       "    .dataframe thead th {\n",
       "        text-align: right;\n",
       "    }\n",
       "</style>\n",
       "<table border=\"1\" class=\"dataframe\">\n",
       "  <thead>\n",
       "    <tr style=\"text-align: right;\">\n",
       "      <th></th>\n",
       "      <th>Cumulative_cases</th>\n",
       "      <th>Cumulative_deaths</th>\n",
       "      <th>Cumulative_cases_trans</th>\n",
       "      <th>Cumulative_deaths_trans</th>\n",
       "      <th>Estimated Deaths Transformation</th>\n",
       "      <th>Estimated Death</th>\n",
       "    </tr>\n",
       "  </thead>\n",
       "  <tbody>\n",
       "    <tr>\n",
       "      <th>65806</th>\n",
       "      <td>1754442</td>\n",
       "      <td>51068</td>\n",
       "      <td>5.699818e-07</td>\n",
       "      <td>10.840913</td>\n",
       "      <td>10.951167</td>\n",
       "      <td>57020.553601</td>\n",
       "    </tr>\n",
       "    <tr>\n",
       "      <th>65807</th>\n",
       "      <td>1764716</td>\n",
       "      <td>51483</td>\n",
       "      <td>5.666634e-07</td>\n",
       "      <td>10.849007</td>\n",
       "      <td>10.956512</td>\n",
       "      <td>57326.166614</td>\n",
       "    </tr>\n",
       "    <tr>\n",
       "      <th>65808</th>\n",
       "      <td>1774734</td>\n",
       "      <td>52074</td>\n",
       "      <td>5.634647e-07</td>\n",
       "      <td>10.860421</td>\n",
       "      <td>10.961665</td>\n",
       "      <td>57622.307674</td>\n",
       "    </tr>\n",
       "    <tr>\n",
       "      <th>65809</th>\n",
       "      <td>1783570</td>\n",
       "      <td>52570</td>\n",
       "      <td>5.606733e-07</td>\n",
       "      <td>10.869901</td>\n",
       "      <td>10.966162</td>\n",
       "      <td>57881.996436</td>\n",
       "    </tr>\n",
       "    <tr>\n",
       "      <th>65810</th>\n",
       "      <td>1797879</td>\n",
       "      <td>53347</td>\n",
       "      <td>5.562110e-07</td>\n",
       "      <td>10.884573</td>\n",
       "      <td>10.973350</td>\n",
       "      <td>58299.555013</td>\n",
       "    </tr>\n",
       "    <tr>\n",
       "      <th>...</th>\n",
       "      <td>...</td>\n",
       "      <td>...</td>\n",
       "      <td>...</td>\n",
       "      <td>...</td>\n",
       "      <td>...</td>\n",
       "      <td>...</td>\n",
       "    </tr>\n",
       "    <tr>\n",
       "      <th>66276</th>\n",
       "      <td>23443414</td>\n",
       "      <td>133279</td>\n",
       "      <td>4.265590e-08</td>\n",
       "      <td>11.800200</td>\n",
       "      <td>11.800607</td>\n",
       "      <td>133333.225463</td>\n",
       "    </tr>\n",
       "    <tr>\n",
       "      <th>66277</th>\n",
       "      <td>23490420</td>\n",
       "      <td>133284</td>\n",
       "      <td>4.257055e-08</td>\n",
       "      <td>11.800237</td>\n",
       "      <td>11.800744</td>\n",
       "      <td>133351.559721</td>\n",
       "    </tr>\n",
       "    <tr>\n",
       "      <th>66278</th>\n",
       "      <td>23520187</td>\n",
       "      <td>133290</td>\n",
       "      <td>4.251667e-08</td>\n",
       "      <td>11.800282</td>\n",
       "      <td>11.800831</td>\n",
       "      <td>133363.133466</td>\n",
       "    </tr>\n",
       "    <tr>\n",
       "      <th>66279</th>\n",
       "      <td>23550701</td>\n",
       "      <td>133296</td>\n",
       "      <td>4.246158e-08</td>\n",
       "      <td>11.800327</td>\n",
       "      <td>11.800920</td>\n",
       "      <td>133374.968324</td>\n",
       "    </tr>\n",
       "    <tr>\n",
       "      <th>66280</th>\n",
       "      <td>23658211</td>\n",
       "      <td>133308</td>\n",
       "      <td>4.226862e-08</td>\n",
       "      <td>11.800418</td>\n",
       "      <td>11.801231</td>\n",
       "      <td>133416.431100</td>\n",
       "    </tr>\n",
       "  </tbody>\n",
       "</table>\n",
       "<p>475 rows × 6 columns</p>\n",
       "</div>"
      ],
      "text/plain": [
       "       Cumulative_cases  Cumulative_deaths  Cumulative_cases_trans  \\\n",
       "65806           1754442              51068            5.699818e-07   \n",
       "65807           1764716              51483            5.666634e-07   \n",
       "65808           1774734              52074            5.634647e-07   \n",
       "65809           1783570              52570            5.606733e-07   \n",
       "65810           1797879              53347            5.562110e-07   \n",
       "...                 ...                ...                     ...   \n",
       "66276          23443414             133279            4.265590e-08   \n",
       "66277          23490420             133284            4.257055e-08   \n",
       "66278          23520187             133290            4.251667e-08   \n",
       "66279          23550701             133296            4.246158e-08   \n",
       "66280          23658211             133308            4.226862e-08   \n",
       "\n",
       "       Cumulative_deaths_trans  Estimated Deaths Transformation  \\\n",
       "65806                10.840913                        10.951167   \n",
       "65807                10.849007                        10.956512   \n",
       "65808                10.860421                        10.961665   \n",
       "65809                10.869901                        10.966162   \n",
       "65810                10.884573                        10.973350   \n",
       "...                        ...                              ...   \n",
       "66276                11.800200                        11.800607   \n",
       "66277                11.800237                        11.800744   \n",
       "66278                11.800282                        11.800831   \n",
       "66279                11.800327                        11.800920   \n",
       "66280                11.800418                        11.801231   \n",
       "\n",
       "       Estimated Death  \n",
       "65806     57020.553601  \n",
       "65807     57326.166614  \n",
       "65808     57622.307674  \n",
       "65809     57881.996436  \n",
       "65810     58299.555013  \n",
       "...                ...  \n",
       "66276    133333.225463  \n",
       "66277    133351.559721  \n",
       "66278    133363.133466  \n",
       "66279    133374.968324  \n",
       "66280    133416.431100  \n",
       "\n",
       "[475 rows x 6 columns]"
      ]
     },
     "execution_count": 33,
     "metadata": {},
     "output_type": "execute_result"
    }
   ],
   "source": [
    "df4['Estimated Death'] = np.exp((model1.intercept_[0])+(model1.coef_[0][0]*df4['Cumulative_cases_trans'])) \n",
    "df4"
   ]
  },
  {
   "cell_type": "code",
   "execution_count": 34,
   "metadata": {},
   "outputs": [
    {
     "data": {
      "image/png": "[encoded data removed]",
      "text/plain": [
       "<Figure size 720x576 with 1 Axes>"
      ]
     },
     "metadata": {
      "needs_background": "light"
     },
     "output_type": "display_data"
    }
   ],
   "source": [
    "fig, ax = plt.subplots(figsize=(10, 8)) \n",
    "plt.scatter(df4['Cumulative_cases'],df4['Cumulative_deaths'], color=\"blue\", marker=\"+\")\n",
    "plt.plot(df4['Cumulative_cases'],df4['Estimated Death'], color=\"red\")\n",
    "plt.ylabel('Cumulative Death')\n",
    "plt.xlabel('Cumulative Cases')\n",
    "plt.show()"
   ]
  },
  {
   "cell_type": "markdown",
   "metadata": {},
   "source": [
    "From the visualization above, we can see that in Germany a higher Cumulative Cases is associated with higher Cumulative Deaths. In addition, there are still some estimates that deviate from the actual data at some point."
   ]
  },
  {
   "cell_type": "code",
   "execution_count": 35,
   "metadata": {},
   "outputs": [
    {
     "name": "stdout",
     "output_type": "stream",
     "text": [
      "                            OLS Regression Results                            \n",
      "==============================================================================\n",
      "Dep. Variable:                      y   R-squared:                       0.987\n",
      "Model:                            OLS   Adj. R-squared:                  0.987\n",
      "Method:                 Least Squares   F-statistic:                 3.579e+04\n",
      "Date:                Tue, 26 Apr 2022   Prob (F-statistic):               0.00\n",
      "Time:                        08:06:05   Log-Likelihood:                 1114.3\n",
      "No. Observations:                 475   AIC:                            -2225.\n",
      "Df Residuals:                     473   BIC:                            -2216.\n",
      "Df Model:                           1                                         \n",
      "Covariance Type:            nonrobust                                         \n",
      "==============================================================================\n",
      "                 coef    std err          t      P>|t|      [0.025      0.975]\n",
      "------------------------------------------------------------------------------\n",
      "const         11.8693      0.002   5083.951      0.000      11.865      11.874\n",
      "x1         -1.611e+06   8514.407   -189.190      0.000   -1.63e+06   -1.59e+06\n",
      "==============================================================================\n",
      "Omnibus:                       90.346   Durbin-Watson:                   0.003\n",
      "Prob(Omnibus):                  0.000   Jarque-Bera (JB):              295.570\n",
      "Skew:                          -0.859   Prob(JB):                     6.57e-65\n",
      "Kurtosis:                       6.462   Cond. No.                     7.99e+06\n",
      "==============================================================================\n",
      "\n",
      "Notes:\n",
      "[1] Standard Errors assume that the covariance matrix of the errors is correctly specified.\n",
      "[2] The smallest eigenvalue is 7.44e-12. This might indicate that there are\n",
      "strong multicollinearity problems or that the design matrix is singular.\n"
     ]
    }
   ],
   "source": [
    "x5 = sm.add_constant(df4['Cumulative_cases_trans'].to_numpy())\n",
    "Y5 = df4['Cumulative_deaths_trans'].to_numpy()\n",
    "LR5 = sm.OLS(Y5, x5)\n",
    "model5 = LR5.fit()\n",
    "print(model5.summary())"
   ]
  },
  {
   "cell_type": "markdown",
   "metadata": {},
   "source": [
    "## <font color=#00B0BA> Conclusion "
   ]
  },
  {
   "cell_type": "markdown",
   "metadata": {
    "collapsed": true
   },
   "source": [
    "Transformasi dengan log reciprocal dapat digunakan pada data yang awalnya variabel Y meningkat dengan tingkat kenaikan tertentu, tetapi setelah itu meningkat pada tingkat yang menurun."
   ]
  }
 ],
 "metadata": {
  "kernelspec": {
   "display_name": "Python 3",
   "language": "python",
   "name": "python3"
  },
  "language_info": {
   "codemirror_mode": {
    "name": "ipython",
    "version": 3
   },
   "file_extension": ".py",
   "mimetype": "text/x-python",
   "name": "python",
   "nbconvert_exporter": "python",
   "pygments_lexer": "ipython3",
   "version": "3.8.5"
  }
 },
 "nbformat": 4,
 "nbformat_minor": 4
}
